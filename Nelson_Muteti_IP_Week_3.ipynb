{
  "nbformat": 4,
  "nbformat_minor": 0,
  "metadata": {
    "colab": {
      "name": "Nelson_Muteti_IP_Week_3.ipynb",
      "provenance": [],
      "authorship_tag": "ABX9TyP4zF7dHpUuXy0Qz6+A/yWA",
      "include_colab_link": true
    },
    "kernelspec": {
      "name": "python3",
      "display_name": "Python 3"
    }
  },
  "cells": [
    {
      "cell_type": "markdown",
      "metadata": {
        "id": "view-in-github",
        "colab_type": "text"
      },
      "source": [
        "<a href=\"https://colab.research.google.com/github/Nelson-Muteti/WEEK-3-IP/blob/main/Nelson_Muteti_IP_Week_3.ipynb\" target=\"_parent\"><img src=\"https://colab.research.google.com/assets/colab-badge.svg\" alt=\"Open In Colab\"/></a>"
      ]
    },
    {
      "cell_type": "code",
      "metadata": {
        "id": "IuVF9P8hgxVR"
      },
      "source": [
        "#first import pandas library\r\n",
        "import pandas as pd\r\n",
        "# as well as the Numpy library\r\n",
        "import numpy as np"
      ],
      "execution_count": null,
      "outputs": []
    },
    {
      "cell_type": "code",
      "metadata": {
        "colab": {
          "base_uri": "https://localhost:8080/",
          "height": 394
        },
        "id": "ygkerHmNhcNS",
        "outputId": "73402b07-8f46-4e59-cd67-3c31ed99dbd9"
      },
      "source": [
        "# Loading first Telcom dataset from csv file\r\n",
        "data = \"/content/Telcom_dataset.csv\"\r\n",
        "df1 = pd.read_csv(data)\r\n",
        "df1.rename(columns = {\"PRODUTC\": \"PRODUCT\", \r\n",
        "                     \"DW_A_NUMBER_INT\":\"DW_A\",\"DW_B_NUMBER_INT\":\"DW_B\"}, \r\n",
        "                                 inplace = True) \r\n",
        "\r\n",
        "df1.head()"
      ],
      "execution_count": null,
      "outputs": [
        {
          "output_type": "execute_result",
          "data": {
            "text/html": [
              "<div>\n",
              "<style scoped>\n",
              "    .dataframe tbody tr th:only-of-type {\n",
              "        vertical-align: middle;\n",
              "    }\n",
              "\n",
              "    .dataframe tbody tr th {\n",
              "        vertical-align: top;\n",
              "    }\n",
              "\n",
              "    .dataframe thead th {\n",
              "        text-align: right;\n",
              "    }\n",
              "</style>\n",
              "<table border=\"1\" class=\"dataframe\">\n",
              "  <thead>\n",
              "    <tr style=\"text-align: right;\">\n",
              "      <th></th>\n",
              "      <th>PRODUCT</th>\n",
              "      <th>VALUE</th>\n",
              "      <th>DATETIME</th>\n",
              "      <th>CELL_ON_SITE</th>\n",
              "      <th>DW_A</th>\n",
              "      <th>DW_B</th>\n",
              "      <th>COUNTRY_A</th>\n",
              "      <th>COUNTRY_B</th>\n",
              "      <th>CELL_ID</th>\n",
              "      <th>SITE_ID</th>\n",
              "    </tr>\n",
              "  </thead>\n",
              "  <tbody>\n",
              "    <tr>\n",
              "      <th>0</th>\n",
              "      <td>Voice</td>\n",
              "      <td>0</td>\n",
              "      <td>2012-05-06 23:04:37.0</td>\n",
              "      <td>1</td>\n",
              "      <td>49fae048b547780</td>\n",
              "      <td>1a49f8b0ded9de6</td>\n",
              "      <td>19e2e</td>\n",
              "      <td>19e2e</td>\n",
              "      <td>/TJNe+Mmtu</td>\n",
              "      <td>/TJNe+Mmtu</td>\n",
              "    </tr>\n",
              "    <tr>\n",
              "      <th>1</th>\n",
              "      <td>sms</td>\n",
              "      <td>0</td>\n",
              "      <td>2012-05-06 23:05:25.0</td>\n",
              "      <td>0</td>\n",
              "      <td>7a54a6eaee19e65</td>\n",
              "      <td>93343ba6e41af95</td>\n",
              "      <td>19e2e</td>\n",
              "      <td>19e2e</td>\n",
              "      <td>/+cKZKIp41</td>\n",
              "      <td>/+cKZKIp41</td>\n",
              "    </tr>\n",
              "    <tr>\n",
              "      <th>2</th>\n",
              "      <td>sms</td>\n",
              "      <td>25</td>\n",
              "      <td>2012-05-06 23:05:41.0</td>\n",
              "      <td>0</td>\n",
              "      <td>6008887b0207d82</td>\n",
              "      <td>7aacc9709ce0a20</td>\n",
              "      <td>19e2e</td>\n",
              "      <td>19e2e</td>\n",
              "      <td>/u0FSD+ahi</td>\n",
              "      <td>/u0FSD+ahi</td>\n",
              "    </tr>\n",
              "    <tr>\n",
              "      <th>3</th>\n",
              "      <td>Voice</td>\n",
              "      <td>56</td>\n",
              "      <td>2012-05-06 23:05:42.0</td>\n",
              "      <td>1</td>\n",
              "      <td>7370032e20f4e96</td>\n",
              "      <td>6af4a60e74c91d3</td>\n",
              "      <td>19e2e</td>\n",
              "      <td>19e2e</td>\n",
              "      <td>+cNeJzsTp3</td>\n",
              "      <td>+cNeJzsTp3</td>\n",
              "    </tr>\n",
              "    <tr>\n",
              "      <th>4</th>\n",
              "      <td>Voice</td>\n",
              "      <td>14</td>\n",
              "      <td>2012-05-06 23:06:29.0</td>\n",
              "      <td>1</td>\n",
              "      <td>966ba4656e38e62</td>\n",
              "      <td>02aa736ee555d5c</td>\n",
              "      <td>19e2e</td>\n",
              "      <td>19e2e</td>\n",
              "      <td>051KhYDCpv</td>\n",
              "      <td>051KhYDCpv</td>\n",
              "    </tr>\n",
              "  </tbody>\n",
              "</table>\n",
              "</div>"
            ],
            "text/plain": [
              "  PRODUCT  VALUE               DATETIME  ... COUNTRY_B     CELL_ID     SITE_ID\n",
              "0   Voice      0  2012-05-06 23:04:37.0  ...     19e2e  /TJNe+Mmtu  /TJNe+Mmtu\n",
              "1     sms      0  2012-05-06 23:05:25.0  ...     19e2e  /+cKZKIp41  /+cKZKIp41\n",
              "2     sms     25  2012-05-06 23:05:41.0  ...     19e2e  /u0FSD+ahi  /u0FSD+ahi\n",
              "3   Voice     56  2012-05-06 23:05:42.0  ...     19e2e  +cNeJzsTp3  +cNeJzsTp3\n",
              "4   Voice     14  2012-05-06 23:06:29.0  ...     19e2e  051KhYDCpv  051KhYDCpv\n",
              "\n",
              "[5 rows x 10 columns]"
            ]
          },
          "metadata": {
            "tags": []
          },
          "execution_count": 2
        }
      ]
    },
    {
      "cell_type": "code",
      "metadata": {
        "colab": {
          "base_uri": "https://localhost:8080/",
          "height": 394
        },
        "id": "czD8c2dThfYY",
        "outputId": "174ab9be-8483-42f7-8ece-54a7b8e4d338"
      },
      "source": [
        "# Loading second Telcom dataset from csv file\r\n",
        "mydata = \"/content/Telcom_dataset2.csv\"\r\n",
        "df2 = pd.read_csv(mydata)\r\n",
        "df2.rename(columns = {\"DATE_TIME\": \"DATETIME\", \r\n",
        "                     \"DW_A_NUMBER\":\"DW_A\",\"DW_B_NUMBER\":\"DW_B\"}, \r\n",
        "                                 inplace = True) \r\n",
        "df2.head()"
      ],
      "execution_count": null,
      "outputs": [
        {
          "output_type": "execute_result",
          "data": {
            "text/html": [
              "<div>\n",
              "<style scoped>\n",
              "    .dataframe tbody tr th:only-of-type {\n",
              "        vertical-align: middle;\n",
              "    }\n",
              "\n",
              "    .dataframe tbody tr th {\n",
              "        vertical-align: top;\n",
              "    }\n",
              "\n",
              "    .dataframe thead th {\n",
              "        text-align: right;\n",
              "    }\n",
              "</style>\n",
              "<table border=\"1\" class=\"dataframe\">\n",
              "  <thead>\n",
              "    <tr style=\"text-align: right;\">\n",
              "      <th></th>\n",
              "      <th>PRODUCT</th>\n",
              "      <th>VALUE</th>\n",
              "      <th>DATETIME</th>\n",
              "      <th>CELL_ON_SITE</th>\n",
              "      <th>DW_A</th>\n",
              "      <th>DW_B</th>\n",
              "      <th>COUNTRY_A</th>\n",
              "      <th>COUNTRY_B</th>\n",
              "      <th>CELL_ID</th>\n",
              "      <th>SITE_ID</th>\n",
              "    </tr>\n",
              "  </thead>\n",
              "  <tbody>\n",
              "    <tr>\n",
              "      <th>0</th>\n",
              "      <td>sms</td>\n",
              "      <td>0</td>\n",
              "      <td>2012-05-07 23:02:06.0</td>\n",
              "      <td>2</td>\n",
              "      <td>32255675c3b6fe3</td>\n",
              "      <td>1aa7ae01386e9fb</td>\n",
              "      <td>19e2e</td>\n",
              "      <td>19e2e</td>\n",
              "      <td>+854AcBQT2</td>\n",
              "      <td>+854AcBQT2</td>\n",
              "    </tr>\n",
              "    <tr>\n",
              "      <th>1</th>\n",
              "      <td>Voice</td>\n",
              "      <td>0</td>\n",
              "      <td>2012-05-07 23:03:44.0</td>\n",
              "      <td>1</td>\n",
              "      <td>ff16d6ac74c1c64</td>\n",
              "      <td>87d87309c15a8c9</td>\n",
              "      <td>19e2e</td>\n",
              "      <td>19e2e</td>\n",
              "      <td>+854AcBQT2</td>\n",
              "      <td>+854AcBQT2</td>\n",
              "    </tr>\n",
              "    <tr>\n",
              "      <th>2</th>\n",
              "      <td>sms</td>\n",
              "      <td>0</td>\n",
              "      <td>2012-05-07 23:04:06.0</td>\n",
              "      <td>0</td>\n",
              "      <td>98d9f2fb5ff624b</td>\n",
              "      <td>93343ba6e41af95</td>\n",
              "      <td>19e2e</td>\n",
              "      <td>19e2e</td>\n",
              "      <td>+laSrk7g6q</td>\n",
              "      <td>+laSrk7g6q</td>\n",
              "    </tr>\n",
              "    <tr>\n",
              "      <th>3</th>\n",
              "      <td>Voice</td>\n",
              "      <td>37</td>\n",
              "      <td>2012-05-07 23:04:48.0</td>\n",
              "      <td>1</td>\n",
              "      <td>3f9c8a33ec7be1f</td>\n",
              "      <td>7d05a38f89c49d8</td>\n",
              "      <td>19e2e</td>\n",
              "      <td>19e2e</td>\n",
              "      <td>/xvRrCVKoQ</td>\n",
              "      <td>/xvRrCVKoQ</td>\n",
              "    </tr>\n",
              "    <tr>\n",
              "      <th>4</th>\n",
              "      <td>sms</td>\n",
              "      <td>25</td>\n",
              "      <td>2012-05-07 23:04:58.0</td>\n",
              "      <td>1</td>\n",
              "      <td>7bcccc03adf3864</td>\n",
              "      <td>56a5d5430d2fa86</td>\n",
              "      <td>19e2e</td>\n",
              "      <td>19e2e</td>\n",
              "      <td>+bO+qkSonO</td>\n",
              "      <td>+bO+qkSonO</td>\n",
              "    </tr>\n",
              "  </tbody>\n",
              "</table>\n",
              "</div>"
            ],
            "text/plain": [
              "  PRODUCT  VALUE               DATETIME  ... COUNTRY_B     CELL_ID     SITE_ID\n",
              "0     sms      0  2012-05-07 23:02:06.0  ...     19e2e  +854AcBQT2  +854AcBQT2\n",
              "1   Voice      0  2012-05-07 23:03:44.0  ...     19e2e  +854AcBQT2  +854AcBQT2\n",
              "2     sms      0  2012-05-07 23:04:06.0  ...     19e2e  +laSrk7g6q  +laSrk7g6q\n",
              "3   Voice     37  2012-05-07 23:04:48.0  ...     19e2e  /xvRrCVKoQ  /xvRrCVKoQ\n",
              "4     sms     25  2012-05-07 23:04:58.0  ...     19e2e  +bO+qkSonO  +bO+qkSonO\n",
              "\n",
              "[5 rows x 10 columns]"
            ]
          },
          "metadata": {
            "tags": []
          },
          "execution_count": 3
        }
      ]
    },
    {
      "cell_type": "code",
      "metadata": {
        "colab": {
          "base_uri": "https://localhost:8080/",
          "height": 394
        },
        "id": "hwmJmKeOhjdR",
        "outputId": "a045d5a8-1a99-499a-e50a-5e1440893a9d"
      },
      "source": [
        "# Loading third Telcom dataset from csv file\r\n",
        "my_data = \"/content/Telcom_dataset3.csv\"\r\n",
        "df3 = pd.read_csv(my_data)\r\n",
        "df3.rename(columns = {\"CELLID\": \"CELL_ID\", \r\n",
        "                     \"DW_A_NUMBER_INT\":\"DW_A\",\"DW_B_NUMBER_INT\":\"DW_B\",\"SIET_ID\":\"SITE_ID\",\"DATE_TIME\":\"DATETIME\"}, \r\n",
        "                                 inplace = True) \r\n",
        "df3.head()"
      ],
      "execution_count": null,
      "outputs": [
        {
          "output_type": "execute_result",
          "data": {
            "text/html": [
              "<div>\n",
              "<style scoped>\n",
              "    .dataframe tbody tr th:only-of-type {\n",
              "        vertical-align: middle;\n",
              "    }\n",
              "\n",
              "    .dataframe tbody tr th {\n",
              "        vertical-align: top;\n",
              "    }\n",
              "\n",
              "    .dataframe thead th {\n",
              "        text-align: right;\n",
              "    }\n",
              "</style>\n",
              "<table border=\"1\" class=\"dataframe\">\n",
              "  <thead>\n",
              "    <tr style=\"text-align: right;\">\n",
              "      <th></th>\n",
              "      <th>PRODUCT</th>\n",
              "      <th>VALUE</th>\n",
              "      <th>DATETIME</th>\n",
              "      <th>CELL_ON_SITE</th>\n",
              "      <th>DW_A</th>\n",
              "      <th>DW_B</th>\n",
              "      <th>COUNTRY_A</th>\n",
              "      <th>COUNTRY_B</th>\n",
              "      <th>CELL_ID</th>\n",
              "      <th>SITE_ID</th>\n",
              "    </tr>\n",
              "  </thead>\n",
              "  <tbody>\n",
              "    <tr>\n",
              "      <th>0</th>\n",
              "      <td>Voice</td>\n",
              "      <td>61</td>\n",
              "      <td>2012-05-08 23:01:28.0</td>\n",
              "      <td>2</td>\n",
              "      <td>966f68353622feb</td>\n",
              "      <td>ffd53a3bb2db6f1</td>\n",
              "      <td>19e2e</td>\n",
              "      <td>19e2e</td>\n",
              "      <td>+38u2u/rfx</td>\n",
              "      <td>+38u2u/rfx</td>\n",
              "    </tr>\n",
              "    <tr>\n",
              "      <th>1</th>\n",
              "      <td>sms</td>\n",
              "      <td>0</td>\n",
              "      <td>2012-05-08 23:01:31.0</td>\n",
              "      <td>1</td>\n",
              "      <td>a0a597384c612d7</td>\n",
              "      <td>cf3b218f1dde792</td>\n",
              "      <td>19e2e</td>\n",
              "      <td>19e2e</td>\n",
              "      <td>+Fs4mTvdKx</td>\n",
              "      <td>+Fs4mTvdKx</td>\n",
              "    </tr>\n",
              "    <tr>\n",
              "      <th>2</th>\n",
              "      <td>Voice</td>\n",
              "      <td>10</td>\n",
              "      <td>2012-05-08 23:02:59.0</td>\n",
              "      <td>1</td>\n",
              "      <td>5441a9a58c97132</td>\n",
              "      <td>52f8b299515b9b7</td>\n",
              "      <td>19e2e</td>\n",
              "      <td>19e2e</td>\n",
              "      <td>+ZaaZozy/+</td>\n",
              "      <td>+ZaaZozy/+</td>\n",
              "    </tr>\n",
              "    <tr>\n",
              "      <th>3</th>\n",
              "      <td>sms</td>\n",
              "      <td>0</td>\n",
              "      <td>2012-05-08 23:03:04.0</td>\n",
              "      <td>0</td>\n",
              "      <td>8ab8b9ed6989f61</td>\n",
              "      <td>e09e736e46c5c3d</td>\n",
              "      <td>19e2e</td>\n",
              "      <td>19e2e</td>\n",
              "      <td>+cNeJzsTp3</td>\n",
              "      <td>+cNeJzsTp3</td>\n",
              "    </tr>\n",
              "    <tr>\n",
              "      <th>4</th>\n",
              "      <td>Voice</td>\n",
              "      <td>22</td>\n",
              "      <td>2012-05-08 23:03:16.0</td>\n",
              "      <td>4</td>\n",
              "      <td>52662a62b199334</td>\n",
              "      <td>2186273faab4602</td>\n",
              "      <td>19e2e</td>\n",
              "      <td>19e2e</td>\n",
              "      <td>/eeMklgyJA</td>\n",
              "      <td>/eeMklgyJA</td>\n",
              "    </tr>\n",
              "  </tbody>\n",
              "</table>\n",
              "</div>"
            ],
            "text/plain": [
              "  PRODUCT  VALUE               DATETIME  ... COUNTRY_B     CELL_ID     SITE_ID\n",
              "0   Voice     61  2012-05-08 23:01:28.0  ...     19e2e  +38u2u/rfx  +38u2u/rfx\n",
              "1     sms      0  2012-05-08 23:01:31.0  ...     19e2e  +Fs4mTvdKx  +Fs4mTvdKx\n",
              "2   Voice     10  2012-05-08 23:02:59.0  ...     19e2e  +ZaaZozy/+  +ZaaZozy/+\n",
              "3     sms      0  2012-05-08 23:03:04.0  ...     19e2e  +cNeJzsTp3  +cNeJzsTp3\n",
              "4   Voice     22  2012-05-08 23:03:16.0  ...     19e2e  /eeMklgyJA  /eeMklgyJA\n",
              "\n",
              "[5 rows x 10 columns]"
            ]
          },
          "metadata": {
            "tags": []
          },
          "execution_count": 4
        }
      ]
    },
    {
      "cell_type": "code",
      "metadata": {
        "colab": {
          "base_uri": "https://localhost:8080/",
          "height": 326
        },
        "id": "bW2Komgvhn8e",
        "outputId": "e7c60564-70a6-4a13-a77c-01ad65c85cec"
      },
      "source": [
        "# Loading 4th dataset from csv file\r\n",
        "thatdata = \"/content/cells_geo.csv\"\r\n",
        "df4 = pd.read_csv(thatdata,sep = \";\",encoding=\"utf-8\")\r\n",
        "df4.rename(columns = {\"SITE_CODE\":\"SITE_ID\",}, \r\n",
        "                                 inplace = True) \r\n",
        "df4.head()"
      ],
      "execution_count": null,
      "outputs": [
        {
          "output_type": "execute_result",
          "data": {
            "text/html": [
              "<div>\n",
              "<style scoped>\n",
              "    .dataframe tbody tr th:only-of-type {\n",
              "        vertical-align: middle;\n",
              "    }\n",
              "\n",
              "    .dataframe tbody tr th {\n",
              "        vertical-align: top;\n",
              "    }\n",
              "\n",
              "    .dataframe thead th {\n",
              "        text-align: right;\n",
              "    }\n",
              "</style>\n",
              "<table border=\"1\" class=\"dataframe\">\n",
              "  <thead>\n",
              "    <tr style=\"text-align: right;\">\n",
              "      <th></th>\n",
              "      <th>Unnamed: 0</th>\n",
              "      <th>VILLES</th>\n",
              "      <th>STATUS</th>\n",
              "      <th>LOCALISATION</th>\n",
              "      <th>DECOUPZONE</th>\n",
              "      <th>ZONENAME</th>\n",
              "      <th>LONGITUDE</th>\n",
              "      <th>LATITUDE</th>\n",
              "      <th>REGION</th>\n",
              "      <th>AREA</th>\n",
              "      <th>CELL_ID</th>\n",
              "      <th>SITE_ID</th>\n",
              "    </tr>\n",
              "  </thead>\n",
              "  <tbody>\n",
              "    <tr>\n",
              "      <th>0</th>\n",
              "      <td>0</td>\n",
              "      <td>ADJAME</td>\n",
              "      <td>In Service</td>\n",
              "      <td>ABIDJAN</td>\n",
              "      <td>\"Abidjan_EST</td>\n",
              "      <td>AGBANNEW</td>\n",
              "      <td>-4.000667</td>\n",
              "      <td>5.368194</td>\n",
              "      <td>LAGUNE</td>\n",
              "      <td>NaN</td>\n",
              "      <td>fbb2e75af3</td>\n",
              "      <td>0bb492ef17</td>\n",
              "    </tr>\n",
              "    <tr>\n",
              "      <th>1</th>\n",
              "      <td>1</td>\n",
              "      <td>ADJAME</td>\n",
              "      <td>In Service</td>\n",
              "      <td>ABIDJAN</td>\n",
              "      <td>\"Abidjan_EST</td>\n",
              "      <td>AGBANNEW</td>\n",
              "      <td>-4.000667</td>\n",
              "      <td>5.368194</td>\n",
              "      <td>LAGUNE</td>\n",
              "      <td>NaN</td>\n",
              "      <td>1502501d78</td>\n",
              "      <td>0bb492ef17</td>\n",
              "    </tr>\n",
              "    <tr>\n",
              "      <th>2</th>\n",
              "      <td>2</td>\n",
              "      <td>ADJAME</td>\n",
              "      <td>In Service</td>\n",
              "      <td>ABIDJAN</td>\n",
              "      <td>\"Abidjan_EST</td>\n",
              "      <td>AGBANNEW</td>\n",
              "      <td>-4.000667</td>\n",
              "      <td>5.368194</td>\n",
              "      <td>LAGUNE</td>\n",
              "      <td>NaN</td>\n",
              "      <td>0c2e182a0c</td>\n",
              "      <td>0bb492ef17</td>\n",
              "    </tr>\n",
              "    <tr>\n",
              "      <th>3</th>\n",
              "      <td>3</td>\n",
              "      <td>ASSINIE</td>\n",
              "      <td>In Service</td>\n",
              "      <td>INTERIEUR</td>\n",
              "      <td>Grand-EST</td>\n",
              "      <td>ASSINIE\"</td>\n",
              "      <td>-3.488467</td>\n",
              "      <td>5.158761</td>\n",
              "      <td>SUD COMOE</td>\n",
              "      <td>NaN</td>\n",
              "      <td>69bdfc69fd</td>\n",
              "      <td>8a1e6ce31f</td>\n",
              "    </tr>\n",
              "    <tr>\n",
              "      <th>4</th>\n",
              "      <td>4</td>\n",
              "      <td>ASSINIE</td>\n",
              "      <td>In Service</td>\n",
              "      <td>INTERIEUR</td>\n",
              "      <td>Grand-EST</td>\n",
              "      <td>ASSINIE\"</td>\n",
              "      <td>-3.488467</td>\n",
              "      <td>5.158761</td>\n",
              "      <td>SUD COMOE</td>\n",
              "      <td>NaN</td>\n",
              "      <td>7a1029d2ab</td>\n",
              "      <td>8a1e6ce31f</td>\n",
              "    </tr>\n",
              "  </tbody>\n",
              "</table>\n",
              "</div>"
            ],
            "text/plain": [
              "   Unnamed: 0   VILLES      STATUS  ... AREA     CELL_ID     SITE_ID\n",
              "0           0   ADJAME  In Service  ...  NaN  fbb2e75af3  0bb492ef17\n",
              "1           1   ADJAME  In Service  ...  NaN  1502501d78  0bb492ef17\n",
              "2           2   ADJAME  In Service  ...  NaN  0c2e182a0c  0bb492ef17\n",
              "3           3  ASSINIE  In Service  ...  NaN  69bdfc69fd  8a1e6ce31f\n",
              "4           4  ASSINIE  In Service  ...  NaN  7a1029d2ab  8a1e6ce31f\n",
              "\n",
              "[5 rows x 12 columns]"
            ]
          },
          "metadata": {
            "tags": []
          },
          "execution_count": 5
        }
      ]
    },
    {
      "cell_type": "code",
      "metadata": {
        "colab": {
          "base_uri": "https://localhost:8080/"
        },
        "id": "0XH5-4Mthsm_",
        "outputId": "e2271a9d-978f-482f-a405-2c7401a308b7"
      },
      "source": [
        "# Loading 5th dataset from an xslx file\r\n",
        "new_data = \"/content/cells_geo_description.xlsx\"\r\n",
        "df5 = pd.read_excel(new_data)\r\n",
        "df5.head"
      ],
      "execution_count": null,
      "outputs": [
        {
          "output_type": "execute_result",
          "data": {
            "text/plain": [
              "<bound method NDFrame.head of      Column name                                        Description  Format\n",
              "0         VILLES                                               City  String\n",
              "1         STATUS                                  In Service or not  String\n",
              "2   LOCALISATION                                  in ABIDJAN or not  String\n",
              "3     DECOUPZONE                                  Geographical Zone  String\n",
              "4       ZONENAME                                       Name of Zone  String\n",
              "5      LONGITUDE                                          Longitude   Float\n",
              "6       LATITUDE                                           Latitude   Float\n",
              "7         REGION                                             Region  String\n",
              "8           AREA                                               Area  String\n",
              "9        CELL_ID                                     ID of the cell  String\n",
              "10     SITE_CODE  Site (there are several cells per site, severa...  String>"
            ]
          },
          "metadata": {
            "tags": []
          },
          "execution_count": 6
        }
      ]
    },
    {
      "cell_type": "code",
      "metadata": {
        "colab": {
          "base_uri": "https://localhost:8080/",
          "height": 359
        },
        "id": "0Y1B1fkWhx3t",
        "outputId": "5bd80be4-9e44-45be-e842-3ebbe3172b36"
      },
      "source": [
        "#Loading 6th dataset from an xslx file\r\n",
        "somedata = \"/content/CDR_description.xlsx\"\r\n",
        "df6 = pd.read_excel(somedata)\r\n",
        "df6"
      ],
      "execution_count": null,
      "outputs": [
        {
          "output_type": "execute_result",
          "data": {
            "text/html": [
              "<div>\n",
              "<style scoped>\n",
              "    .dataframe tbody tr th:only-of-type {\n",
              "        vertical-align: middle;\n",
              "    }\n",
              "\n",
              "    .dataframe tbody tr th {\n",
              "        vertical-align: top;\n",
              "    }\n",
              "\n",
              "    .dataframe thead th {\n",
              "        text-align: right;\n",
              "    }\n",
              "</style>\n",
              "<table border=\"1\" class=\"dataframe\">\n",
              "  <thead>\n",
              "    <tr style=\"text-align: right;\">\n",
              "      <th></th>\n",
              "      <th>Column name</th>\n",
              "      <th>Description</th>\n",
              "      <th>Format</th>\n",
              "    </tr>\n",
              "  </thead>\n",
              "  <tbody>\n",
              "    <tr>\n",
              "      <th>0</th>\n",
              "      <td>PRODUCT</td>\n",
              "      <td>Voice or SMS</td>\n",
              "      <td>String</td>\n",
              "    </tr>\n",
              "    <tr>\n",
              "      <th>1</th>\n",
              "      <td>VALUE</td>\n",
              "      <td>Billing price</td>\n",
              "      <td>Integer</td>\n",
              "    </tr>\n",
              "    <tr>\n",
              "      <th>2</th>\n",
              "      <td>DATE_TIME</td>\n",
              "      <td>Time in format yyyy-MM-dd hh:mm:ss.0</td>\n",
              "      <td>String</td>\n",
              "    </tr>\n",
              "    <tr>\n",
              "      <th>3</th>\n",
              "      <td>CELL_ON_SITE</td>\n",
              "      <td>Which cell in the site was used (not needed here)</td>\n",
              "      <td>Integer</td>\n",
              "    </tr>\n",
              "    <tr>\n",
              "      <th>4</th>\n",
              "      <td>DW_A_NUMBER_INT</td>\n",
              "      <td>Anonymized phone number of the person for whic...</td>\n",
              "      <td>String</td>\n",
              "    </tr>\n",
              "    <tr>\n",
              "      <th>5</th>\n",
              "      <td>DW_B_NUMBER_INT</td>\n",
              "      <td>Anonymized phone number of the counterparty</td>\n",
              "      <td>String</td>\n",
              "    </tr>\n",
              "    <tr>\n",
              "      <th>6</th>\n",
              "      <td>COUNTRY_A</td>\n",
              "      <td>Country of party A (useless here)</td>\n",
              "      <td>String</td>\n",
              "    </tr>\n",
              "    <tr>\n",
              "      <th>7</th>\n",
              "      <td>COUNTRY_B</td>\n",
              "      <td>Country of party B (useless here)</td>\n",
              "      <td>String</td>\n",
              "    </tr>\n",
              "    <tr>\n",
              "      <th>8</th>\n",
              "      <td>CELL_ID</td>\n",
              "      <td>ID of the cell</td>\n",
              "      <td>String</td>\n",
              "    </tr>\n",
              "    <tr>\n",
              "      <th>9</th>\n",
              "      <td>SITE_ID</td>\n",
              "      <td>ID of the SITE</td>\n",
              "      <td>String</td>\n",
              "    </tr>\n",
              "  </tbody>\n",
              "</table>\n",
              "</div>"
            ],
            "text/plain": [
              "       Column name                                        Description   Format\n",
              "0          PRODUCT                                       Voice or SMS   String\n",
              "1            VALUE                                      Billing price  Integer\n",
              "2        DATE_TIME               Time in format yyyy-MM-dd hh:mm:ss.0   String\n",
              "3     CELL_ON_SITE  Which cell in the site was used (not needed here)  Integer\n",
              "4  DW_A_NUMBER_INT  Anonymized phone number of the person for whic...   String\n",
              "5  DW_B_NUMBER_INT        Anonymized phone number of the counterparty   String\n",
              "6        COUNTRY_A                  Country of party A (useless here)   String\n",
              "7        COUNTRY_B                  Country of party B (useless here)   String\n",
              "8          CELL_ID                                     ID of the cell   String\n",
              "9          SITE_ID                                     ID of the SITE   String"
            ]
          },
          "metadata": {
            "tags": []
          },
          "execution_count": 8
        }
      ]
    },
    {
      "cell_type": "code",
      "metadata": {
        "colab": {
          "base_uri": "https://localhost:8080/"
        },
        "id": "MLccwA6Ph8Ng",
        "outputId": "90a5d57c-4a4f-468b-df52-d301fb5ab8b5"
      },
      "source": [
        "#get the columns in dataset 1\r\n",
        "df1.columns"
      ],
      "execution_count": null,
      "outputs": [
        {
          "output_type": "execute_result",
          "data": {
            "text/plain": [
              "Index(['PRODUCT', 'VALUE', 'DATETIME', 'CELL_ON_SITE', 'DW_A', 'DW_B',\n",
              "       'COUNTRY_A', 'COUNTRY_B', 'CELL_ID', 'SITE_ID'],\n",
              "      dtype='object')"
            ]
          },
          "metadata": {
            "tags": []
          },
          "execution_count": 9
        }
      ]
    },
    {
      "cell_type": "code",
      "metadata": {
        "colab": {
          "base_uri": "https://localhost:8080/"
        },
        "id": "du9meuctiJOR",
        "outputId": "4c7a2fa7-5c07-4d64-a48d-1b580ce81d45"
      },
      "source": [
        "#get the columns in dataset 2\r\n",
        "df2.columns"
      ],
      "execution_count": null,
      "outputs": [
        {
          "output_type": "execute_result",
          "data": {
            "text/plain": [
              "Index(['PRODUCT', 'VALUE', 'DATETIME', 'CELL_ON_SITE', 'DW_A', 'DW_B',\n",
              "       'COUNTRY_A', 'COUNTRY_B', 'CELL_ID', 'SITE_ID'],\n",
              "      dtype='object')"
            ]
          },
          "metadata": {
            "tags": []
          },
          "execution_count": 10
        }
      ]
    },
    {
      "cell_type": "code",
      "metadata": {
        "colab": {
          "base_uri": "https://localhost:8080/"
        },
        "id": "AMlU34gtiNUO",
        "outputId": "b281e74a-9db2-4bb3-d452-b574541cd00b"
      },
      "source": [
        "#get the columns in dataset 3\r\n",
        "df3.columns"
      ],
      "execution_count": null,
      "outputs": [
        {
          "output_type": "execute_result",
          "data": {
            "text/plain": [
              "Index(['PRODUCT', 'VALUE', 'DATETIME', 'CELL_ON_SITE', 'DW_A', 'DW_B',\n",
              "       'COUNTRY_A', 'COUNTRY_B', 'CELL_ID', 'SITE_ID'],\n",
              "      dtype='object')"
            ]
          },
          "metadata": {
            "tags": []
          },
          "execution_count": 11
        }
      ]
    },
    {
      "cell_type": "code",
      "metadata": {
        "colab": {
          "base_uri": "https://localhost:8080/"
        },
        "id": "hN-jX6rdiRuF",
        "outputId": "972a971c-8101-4662-b90a-fae46513460a"
      },
      "source": [
        "#check numerical makeup of data\r\n",
        "\r\n",
        "df1.info()"
      ],
      "execution_count": null,
      "outputs": [
        {
          "output_type": "stream",
          "text": [
            "<class 'pandas.core.frame.DataFrame'>\n",
            "RangeIndex: 5001 entries, 0 to 5000\n",
            "Data columns (total 10 columns):\n",
            " #   Column        Non-Null Count  Dtype \n",
            "---  ------        --------------  ----- \n",
            " 0   PRODUCT       5001 non-null   object\n",
            " 1   VALUE         5001 non-null   int64 \n",
            " 2   DATETIME      5001 non-null   object\n",
            " 3   CELL_ON_SITE  5001 non-null   object\n",
            " 4   DW_A          5001 non-null   object\n",
            " 5   DW_B          5001 non-null   object\n",
            " 6   COUNTRY_A     5001 non-null   object\n",
            " 7   COUNTRY_B     5001 non-null   object\n",
            " 8   CELL_ID       5001 non-null   object\n",
            " 9   SITE_ID       4285 non-null   object\n",
            "dtypes: int64(1), object(9)\n",
            "memory usage: 390.8+ KB\n"
          ],
          "name": "stdout"
        }
      ]
    },
    {
      "cell_type": "code",
      "metadata": {
        "colab": {
          "base_uri": "https://localhost:8080/"
        },
        "id": "jpo3SHwOiXck",
        "outputId": "104b53ca-6972-4886-862b-424d0e1832ce"
      },
      "source": [
        "#check numerical makeup of data\r\n",
        "df2.info()"
      ],
      "execution_count": null,
      "outputs": [
        {
          "output_type": "stream",
          "text": [
            "<class 'pandas.core.frame.DataFrame'>\n",
            "RangeIndex: 5001 entries, 0 to 5000\n",
            "Data columns (total 10 columns):\n",
            " #   Column        Non-Null Count  Dtype \n",
            "---  ------        --------------  ----- \n",
            " 0   PRODUCT       5001 non-null   object\n",
            " 1   VALUE         5001 non-null   int64 \n",
            " 2   DATETIME      5001 non-null   object\n",
            " 3   CELL_ON_SITE  5001 non-null   object\n",
            " 4   DW_A          5001 non-null   object\n",
            " 5   DW_B          5001 non-null   object\n",
            " 6   COUNTRY_A     5001 non-null   object\n",
            " 7   COUNTRY_B     5001 non-null   object\n",
            " 8   CELL_ID       5001 non-null   object\n",
            " 9   SITE_ID       4325 non-null   object\n",
            "dtypes: int64(1), object(9)\n",
            "memory usage: 390.8+ KB\n"
          ],
          "name": "stdout"
        }
      ]
    },
    {
      "cell_type": "code",
      "metadata": {
        "colab": {
          "base_uri": "https://localhost:8080/"
        },
        "id": "EUId45TwibcW",
        "outputId": "5d3b4335-e7d8-499b-d408-a75c6dcb510d"
      },
      "source": [
        "#check numerical makeup of data\r\n",
        "df3.info()"
      ],
      "execution_count": null,
      "outputs": [
        {
          "output_type": "stream",
          "text": [
            "<class 'pandas.core.frame.DataFrame'>\n",
            "RangeIndex: 5001 entries, 0 to 5000\n",
            "Data columns (total 10 columns):\n",
            " #   Column        Non-Null Count  Dtype \n",
            "---  ------        --------------  ----- \n",
            " 0   PRODUCT       5001 non-null   object\n",
            " 1   VALUE         5001 non-null   int64 \n",
            " 2   DATETIME      5001 non-null   object\n",
            " 3   CELL_ON_SITE  5001 non-null   object\n",
            " 4   DW_A          5001 non-null   object\n",
            " 5   DW_B          5001 non-null   object\n",
            " 6   COUNTRY_A     5001 non-null   object\n",
            " 7   COUNTRY_B     5001 non-null   object\n",
            " 8   CELL_ID       5001 non-null   object\n",
            " 9   SITE_ID       4396 non-null   object\n",
            "dtypes: int64(1), object(9)\n",
            "memory usage: 390.8+ KB\n"
          ],
          "name": "stdout"
        }
      ]
    },
    {
      "cell_type": "code",
      "metadata": {
        "colab": {
          "base_uri": "https://localhost:8080/",
          "height": 394
        },
        "id": "-ZNoFo8tifYA",
        "outputId": "8202b82a-ff68-4624-88e3-1e19e5e8cdfb"
      },
      "source": [
        "#After confirming the column names merge the dataframes\r\n",
        "\r\n",
        "df = pd.concat([df1, df2,df3],axis=0,ignore_index=True)\r\n",
        "df.head()"
      ],
      "execution_count": null,
      "outputs": [
        {
          "output_type": "execute_result",
          "data": {
            "text/html": [
              "<div>\n",
              "<style scoped>\n",
              "    .dataframe tbody tr th:only-of-type {\n",
              "        vertical-align: middle;\n",
              "    }\n",
              "\n",
              "    .dataframe tbody tr th {\n",
              "        vertical-align: top;\n",
              "    }\n",
              "\n",
              "    .dataframe thead th {\n",
              "        text-align: right;\n",
              "    }\n",
              "</style>\n",
              "<table border=\"1\" class=\"dataframe\">\n",
              "  <thead>\n",
              "    <tr style=\"text-align: right;\">\n",
              "      <th></th>\n",
              "      <th>PRODUCT</th>\n",
              "      <th>VALUE</th>\n",
              "      <th>DATETIME</th>\n",
              "      <th>CELL_ON_SITE</th>\n",
              "      <th>DW_A</th>\n",
              "      <th>DW_B</th>\n",
              "      <th>COUNTRY_A</th>\n",
              "      <th>COUNTRY_B</th>\n",
              "      <th>CELL_ID</th>\n",
              "      <th>SITE_ID</th>\n",
              "    </tr>\n",
              "  </thead>\n",
              "  <tbody>\n",
              "    <tr>\n",
              "      <th>0</th>\n",
              "      <td>Voice</td>\n",
              "      <td>0</td>\n",
              "      <td>2012-05-06 23:04:37.0</td>\n",
              "      <td>1</td>\n",
              "      <td>49fae048b547780</td>\n",
              "      <td>1a49f8b0ded9de6</td>\n",
              "      <td>19e2e</td>\n",
              "      <td>19e2e</td>\n",
              "      <td>/TJNe+Mmtu</td>\n",
              "      <td>/TJNe+Mmtu</td>\n",
              "    </tr>\n",
              "    <tr>\n",
              "      <th>1</th>\n",
              "      <td>sms</td>\n",
              "      <td>0</td>\n",
              "      <td>2012-05-06 23:05:25.0</td>\n",
              "      <td>0</td>\n",
              "      <td>7a54a6eaee19e65</td>\n",
              "      <td>93343ba6e41af95</td>\n",
              "      <td>19e2e</td>\n",
              "      <td>19e2e</td>\n",
              "      <td>/+cKZKIp41</td>\n",
              "      <td>/+cKZKIp41</td>\n",
              "    </tr>\n",
              "    <tr>\n",
              "      <th>2</th>\n",
              "      <td>sms</td>\n",
              "      <td>25</td>\n",
              "      <td>2012-05-06 23:05:41.0</td>\n",
              "      <td>0</td>\n",
              "      <td>6008887b0207d82</td>\n",
              "      <td>7aacc9709ce0a20</td>\n",
              "      <td>19e2e</td>\n",
              "      <td>19e2e</td>\n",
              "      <td>/u0FSD+ahi</td>\n",
              "      <td>/u0FSD+ahi</td>\n",
              "    </tr>\n",
              "    <tr>\n",
              "      <th>3</th>\n",
              "      <td>Voice</td>\n",
              "      <td>56</td>\n",
              "      <td>2012-05-06 23:05:42.0</td>\n",
              "      <td>1</td>\n",
              "      <td>7370032e20f4e96</td>\n",
              "      <td>6af4a60e74c91d3</td>\n",
              "      <td>19e2e</td>\n",
              "      <td>19e2e</td>\n",
              "      <td>+cNeJzsTp3</td>\n",
              "      <td>+cNeJzsTp3</td>\n",
              "    </tr>\n",
              "    <tr>\n",
              "      <th>4</th>\n",
              "      <td>Voice</td>\n",
              "      <td>14</td>\n",
              "      <td>2012-05-06 23:06:29.0</td>\n",
              "      <td>1</td>\n",
              "      <td>966ba4656e38e62</td>\n",
              "      <td>02aa736ee555d5c</td>\n",
              "      <td>19e2e</td>\n",
              "      <td>19e2e</td>\n",
              "      <td>051KhYDCpv</td>\n",
              "      <td>051KhYDCpv</td>\n",
              "    </tr>\n",
              "  </tbody>\n",
              "</table>\n",
              "</div>"
            ],
            "text/plain": [
              "  PRODUCT  VALUE               DATETIME  ... COUNTRY_B     CELL_ID     SITE_ID\n",
              "0   Voice      0  2012-05-06 23:04:37.0  ...     19e2e  /TJNe+Mmtu  /TJNe+Mmtu\n",
              "1     sms      0  2012-05-06 23:05:25.0  ...     19e2e  /+cKZKIp41  /+cKZKIp41\n",
              "2     sms     25  2012-05-06 23:05:41.0  ...     19e2e  /u0FSD+ahi  /u0FSD+ahi\n",
              "3   Voice     56  2012-05-06 23:05:42.0  ...     19e2e  +cNeJzsTp3  +cNeJzsTp3\n",
              "4   Voice     14  2012-05-06 23:06:29.0  ...     19e2e  051KhYDCpv  051KhYDCpv\n",
              "\n",
              "[5 rows x 10 columns]"
            ]
          },
          "metadata": {
            "tags": []
          },
          "execution_count": 29
        }
      ]
    },
    {
      "cell_type": "code",
      "metadata": {
        "colab": {
          "base_uri": "https://localhost:8080/"
        },
        "id": "TIrtxXh0ikpE",
        "outputId": "54735802-1d55-4355-b4c0-60ae82d30113"
      },
      "source": [
        "#glimpse at new merged dataset\r\n",
        "df.info()"
      ],
      "execution_count": null,
      "outputs": [
        {
          "output_type": "stream",
          "text": [
            "<class 'pandas.core.frame.DataFrame'>\n",
            "RangeIndex: 15003 entries, 0 to 15002\n",
            "Data columns (total 10 columns):\n",
            " #   Column        Non-Null Count  Dtype \n",
            "---  ------        --------------  ----- \n",
            " 0   PRODUCT       15003 non-null  object\n",
            " 1   VALUE         15003 non-null  int64 \n",
            " 2   DATETIME      15003 non-null  object\n",
            " 3   CELL_ON_SITE  15003 non-null  object\n",
            " 4   DW_A          15003 non-null  object\n",
            " 5   DW_B          15003 non-null  object\n",
            " 6   COUNTRY_A     15003 non-null  object\n",
            " 7   COUNTRY_B     15003 non-null  object\n",
            " 8   CELL_ID       15003 non-null  object\n",
            " 9   SITE_ID       13006 non-null  object\n",
            "dtypes: int64(1), object(9)\n",
            "memory usage: 1.1+ MB\n"
          ],
          "name": "stdout"
        }
      ]
    },
    {
      "cell_type": "code",
      "metadata": {
        "colab": {
          "base_uri": "https://localhost:8080/"
        },
        "id": "FBDD_litior5",
        "outputId": "59b2c397-4ffa-4c43-b9fd-5f5dd38e3e7b"
      },
      "source": [
        "#get a glimpse of the dataset\r\n",
        "df4.info()"
      ],
      "execution_count": null,
      "outputs": [
        {
          "output_type": "stream",
          "text": [
            "<class 'pandas.core.frame.DataFrame'>\n",
            "RangeIndex: 3974 entries, 0 to 3973\n",
            "Data columns (total 12 columns):\n",
            " #   Column        Non-Null Count  Dtype  \n",
            "---  ------        --------------  -----  \n",
            " 0   Unnamed: 0    3974 non-null   int64  \n",
            " 1   VILLES        3974 non-null   object \n",
            " 2   STATUS        3907 non-null   object \n",
            " 3   LOCALISATION  3974 non-null   object \n",
            " 4   DECOUPZONE    3974 non-null   object \n",
            " 5   ZONENAME      3968 non-null   object \n",
            " 6   LONGITUDE     3974 non-null   float64\n",
            " 7   LATITUDE      3974 non-null   float64\n",
            " 8   REGION        3974 non-null   object \n",
            " 9   AREA          3951 non-null   object \n",
            " 10  CELL_ID       3974 non-null   object \n",
            " 11  SITE_ID       3974 non-null   object \n",
            "dtypes: float64(2), int64(1), object(9)\n",
            "memory usage: 372.7+ KB\n"
          ],
          "name": "stdout"
        }
      ]
    },
    {
      "cell_type": "code",
      "metadata": {
        "colab": {
          "base_uri": "https://localhost:8080/"
        },
        "id": "OWq0d3w6iuD-",
        "outputId": "7b842a15-36a6-467a-e435-1cc26d4ddc55"
      },
      "source": [
        "df4.columns"
      ],
      "execution_count": null,
      "outputs": [
        {
          "output_type": "execute_result",
          "data": {
            "text/plain": [
              "Index(['Unnamed: 0', 'VILLES', 'STATUS', 'LOCALISATION', 'DECOUPZONE',\n",
              "       'ZONENAME', 'LONGITUDE', 'LATITUDE', 'REGION', 'AREA', 'CELL_ID',\n",
              "       'SITE_ID'],\n",
              "      dtype='object')"
            ]
          },
          "metadata": {
            "tags": []
          },
          "execution_count": 18
        }
      ]
    },
    {
      "cell_type": "code",
      "metadata": {
        "colab": {
          "base_uri": "https://localhost:8080/",
          "height": 111
        },
        "id": "7P03E3cyizws",
        "outputId": "cffcf881-be92-47a7-c0ee-d2d5813ab7b3"
      },
      "source": [
        "#drop an unnecessary column\r\n",
        "df4 = df4.drop('Unnamed: 0', axis=1)\r\n",
        "df4.head(2)"
      ],
      "execution_count": null,
      "outputs": [
        {
          "output_type": "execute_result",
          "data": {
            "text/html": [
              "<div>\n",
              "<style scoped>\n",
              "    .dataframe tbody tr th:only-of-type {\n",
              "        vertical-align: middle;\n",
              "    }\n",
              "\n",
              "    .dataframe tbody tr th {\n",
              "        vertical-align: top;\n",
              "    }\n",
              "\n",
              "    .dataframe thead th {\n",
              "        text-align: right;\n",
              "    }\n",
              "</style>\n",
              "<table border=\"1\" class=\"dataframe\">\n",
              "  <thead>\n",
              "    <tr style=\"text-align: right;\">\n",
              "      <th></th>\n",
              "      <th>VILLES</th>\n",
              "      <th>STATUS</th>\n",
              "      <th>LOCALISATION</th>\n",
              "      <th>DECOUPZONE</th>\n",
              "      <th>ZONENAME</th>\n",
              "      <th>LONGITUDE</th>\n",
              "      <th>LATITUDE</th>\n",
              "      <th>REGION</th>\n",
              "      <th>AREA</th>\n",
              "      <th>CELL_ID</th>\n",
              "      <th>SITE_ID</th>\n",
              "    </tr>\n",
              "  </thead>\n",
              "  <tbody>\n",
              "    <tr>\n",
              "      <th>0</th>\n",
              "      <td>ADJAME</td>\n",
              "      <td>In Service</td>\n",
              "      <td>ABIDJAN</td>\n",
              "      <td>\"Abidjan_EST</td>\n",
              "      <td>AGBANNEW</td>\n",
              "      <td>-4.000667</td>\n",
              "      <td>5.368194</td>\n",
              "      <td>LAGUNE</td>\n",
              "      <td>NaN</td>\n",
              "      <td>fbb2e75af3</td>\n",
              "      <td>0bb492ef17</td>\n",
              "    </tr>\n",
              "    <tr>\n",
              "      <th>1</th>\n",
              "      <td>ADJAME</td>\n",
              "      <td>In Service</td>\n",
              "      <td>ABIDJAN</td>\n",
              "      <td>\"Abidjan_EST</td>\n",
              "      <td>AGBANNEW</td>\n",
              "      <td>-4.000667</td>\n",
              "      <td>5.368194</td>\n",
              "      <td>LAGUNE</td>\n",
              "      <td>NaN</td>\n",
              "      <td>1502501d78</td>\n",
              "      <td>0bb492ef17</td>\n",
              "    </tr>\n",
              "  </tbody>\n",
              "</table>\n",
              "</div>"
            ],
            "text/plain": [
              "   VILLES      STATUS LOCALISATION  ... AREA     CELL_ID     SITE_ID\n",
              "0  ADJAME  In Service      ABIDJAN  ...  NaN  fbb2e75af3  0bb492ef17\n",
              "1  ADJAME  In Service      ABIDJAN  ...  NaN  1502501d78  0bb492ef17\n",
              "\n",
              "[2 rows x 11 columns]"
            ]
          },
          "metadata": {
            "tags": []
          },
          "execution_count": 19
        }
      ]
    },
    {
      "cell_type": "code",
      "metadata": {
        "colab": {
          "base_uri": "https://localhost:8080/",
          "height": 394
        },
        "id": "hIfJtXD9i36J",
        "outputId": "de4eef78-7b6d-45cf-8d77-53fb28462515"
      },
      "source": [
        "#Merge the two dataframes on site id\r\n",
        "merged_df = pd.merge(df,\r\n",
        "                 df4[['VILLES', 'STATUS', 'LOCALISATION','DECOUPZONE','ZONENAME','REGION','SITE_ID','LATITUDE','LONGITUDE','AREA']],\r\n",
        "                 on='SITE_ID')\r\n",
        "merged_df.head()"
      ],
      "execution_count": null,
      "outputs": [
        {
          "output_type": "execute_result",
          "data": {
            "text/html": [
              "<div>\n",
              "<style scoped>\n",
              "    .dataframe tbody tr th:only-of-type {\n",
              "        vertical-align: middle;\n",
              "    }\n",
              "\n",
              "    .dataframe tbody tr th {\n",
              "        vertical-align: top;\n",
              "    }\n",
              "\n",
              "    .dataframe thead th {\n",
              "        text-align: right;\n",
              "    }\n",
              "</style>\n",
              "<table border=\"1\" class=\"dataframe\">\n",
              "  <thead>\n",
              "    <tr style=\"text-align: right;\">\n",
              "      <th></th>\n",
              "      <th>PRODUCT</th>\n",
              "      <th>VALUE</th>\n",
              "      <th>DATETIME</th>\n",
              "      <th>CELL_ON_SITE</th>\n",
              "      <th>DW_A</th>\n",
              "      <th>DW_B</th>\n",
              "      <th>COUNTRY_A</th>\n",
              "      <th>COUNTRY_B</th>\n",
              "      <th>CELL_ID</th>\n",
              "      <th>SITE_ID</th>\n",
              "      <th>VILLES</th>\n",
              "      <th>STATUS</th>\n",
              "      <th>LOCALISATION</th>\n",
              "      <th>DECOUPZONE</th>\n",
              "      <th>ZONENAME</th>\n",
              "      <th>REGION</th>\n",
              "      <th>LATITUDE</th>\n",
              "      <th>LONGITUDE</th>\n",
              "      <th>AREA</th>\n",
              "    </tr>\n",
              "  </thead>\n",
              "  <tbody>\n",
              "    <tr>\n",
              "      <th>0</th>\n",
              "      <td>sms</td>\n",
              "      <td>0</td>\n",
              "      <td>2012-05-07 00:00:00.0</td>\n",
              "      <td>1</td>\n",
              "      <td>8118c3aa53d6c7b</td>\n",
              "      <td>1d103ea638ad1f0</td>\n",
              "      <td>19e2e</td>\n",
              "      <td>19e2e</td>\n",
              "      <td>5d9dc897f7</td>\n",
              "      <td>1b5540c02d</td>\n",
              "      <td>BOUAKE</td>\n",
              "      <td>In Service</td>\n",
              "      <td>INTERIEUR</td>\n",
              "      <td>Grand-NORD</td>\n",
              "      <td>ZONE A - Grand-NORD</td>\n",
              "      <td>VALLEE DU BANDAMA</td>\n",
              "      <td>7.718417</td>\n",
              "      <td>-5.027139</td>\n",
              "      <td>CENTRE NORTH</td>\n",
              "    </tr>\n",
              "    <tr>\n",
              "      <th>1</th>\n",
              "      <td>sms</td>\n",
              "      <td>0</td>\n",
              "      <td>2012-05-07 00:00:00.0</td>\n",
              "      <td>1</td>\n",
              "      <td>8118c3aa53d6c7b</td>\n",
              "      <td>1d103ea638ad1f0</td>\n",
              "      <td>19e2e</td>\n",
              "      <td>19e2e</td>\n",
              "      <td>5d9dc897f7</td>\n",
              "      <td>1b5540c02d</td>\n",
              "      <td>BOUAKE</td>\n",
              "      <td>In Service</td>\n",
              "      <td>INTERIEUR</td>\n",
              "      <td>Grand-NORD</td>\n",
              "      <td>ZONE A - Grand-NORD</td>\n",
              "      <td>VALLEE DU BANDAMA</td>\n",
              "      <td>7.718417</td>\n",
              "      <td>-5.027139</td>\n",
              "      <td>CENTRE NORTH</td>\n",
              "    </tr>\n",
              "    <tr>\n",
              "      <th>2</th>\n",
              "      <td>sms</td>\n",
              "      <td>0</td>\n",
              "      <td>2012-05-07 00:00:00.0</td>\n",
              "      <td>1</td>\n",
              "      <td>8118c3aa53d6c7b</td>\n",
              "      <td>1d103ea638ad1f0</td>\n",
              "      <td>19e2e</td>\n",
              "      <td>19e2e</td>\n",
              "      <td>5d9dc897f7</td>\n",
              "      <td>1b5540c02d</td>\n",
              "      <td>BOUAKE</td>\n",
              "      <td>In Service</td>\n",
              "      <td>INTERIEUR</td>\n",
              "      <td>Grand-NORD</td>\n",
              "      <td>ZONE A - Grand-NORD</td>\n",
              "      <td>VALLEE DU BANDAMA</td>\n",
              "      <td>7.718417</td>\n",
              "      <td>-5.027139</td>\n",
              "      <td>CENTRE NORTH</td>\n",
              "    </tr>\n",
              "    <tr>\n",
              "      <th>3</th>\n",
              "      <td>sms</td>\n",
              "      <td>0</td>\n",
              "      <td>2012-05-07 00:00:00.0</td>\n",
              "      <td>1</td>\n",
              "      <td>8118c3aa53d6c7b</td>\n",
              "      <td>1d103ea638ad1f0</td>\n",
              "      <td>19e2e</td>\n",
              "      <td>19e2e</td>\n",
              "      <td>5d9dc897f7</td>\n",
              "      <td>1b5540c02d</td>\n",
              "      <td>BOUAKE</td>\n",
              "      <td>In Service</td>\n",
              "      <td>INTERIEUR</td>\n",
              "      <td>Grand-NORD</td>\n",
              "      <td>ZONE A - Grand-NORD</td>\n",
              "      <td>VALLEE DU BANDAMA</td>\n",
              "      <td>7.718417</td>\n",
              "      <td>-5.027139</td>\n",
              "      <td>CENTRE NORTH</td>\n",
              "    </tr>\n",
              "    <tr>\n",
              "      <th>4</th>\n",
              "      <td>sms</td>\n",
              "      <td>0</td>\n",
              "      <td>2012-05-07 00:00:00.0</td>\n",
              "      <td>1</td>\n",
              "      <td>8118c3aa53d6c7b</td>\n",
              "      <td>1d103ea638ad1f0</td>\n",
              "      <td>19e2e</td>\n",
              "      <td>19e2e</td>\n",
              "      <td>5d9dc897f7</td>\n",
              "      <td>1b5540c02d</td>\n",
              "      <td>BOUAKE</td>\n",
              "      <td>In Service</td>\n",
              "      <td>INTERIEUR</td>\n",
              "      <td>Grand-NORD</td>\n",
              "      <td>ZONE A - Grand-NORD</td>\n",
              "      <td>VALLEE DU BANDAMA</td>\n",
              "      <td>7.718417</td>\n",
              "      <td>-5.027139</td>\n",
              "      <td>CENTRE NORTH</td>\n",
              "    </tr>\n",
              "  </tbody>\n",
              "</table>\n",
              "</div>"
            ],
            "text/plain": [
              "  PRODUCT  VALUE               DATETIME  ...  LATITUDE LONGITUDE          AREA\n",
              "0     sms      0  2012-05-07 00:00:00.0  ...  7.718417 -5.027139  CENTRE NORTH\n",
              "1     sms      0  2012-05-07 00:00:00.0  ...  7.718417 -5.027139  CENTRE NORTH\n",
              "2     sms      0  2012-05-07 00:00:00.0  ...  7.718417 -5.027139  CENTRE NORTH\n",
              "3     sms      0  2012-05-07 00:00:00.0  ...  7.718417 -5.027139  CENTRE NORTH\n",
              "4     sms      0  2012-05-07 00:00:00.0  ...  7.718417 -5.027139  CENTRE NORTH\n",
              "\n",
              "[5 rows x 19 columns]"
            ]
          },
          "metadata": {
            "tags": []
          },
          "execution_count": 44
        }
      ]
    },
    {
      "cell_type": "code",
      "metadata": {
        "colab": {
          "base_uri": "https://localhost:8080/"
        },
        "id": "Wh0TmKa-jvyW",
        "outputId": "59f3a849-04d3-42ee-907b-d133fe6950c5"
      },
      "source": [
        "#get general info of the data\r\n",
        "merged_df.info()"
      ],
      "execution_count": null,
      "outputs": [
        {
          "output_type": "stream",
          "text": [
            "<class 'pandas.core.frame.DataFrame'>\n",
            "Int64Index: 51361 entries, 0 to 51360\n",
            "Data columns (total 19 columns):\n",
            " #   Column        Non-Null Count  Dtype  \n",
            "---  ------        --------------  -----  \n",
            " 0   PRODUCT       51361 non-null  object \n",
            " 1   VALUE         51361 non-null  int64  \n",
            " 2   DATETIME      51361 non-null  object \n",
            " 3   CELL_ON_SITE  51361 non-null  object \n",
            " 4   DW_A          51361 non-null  object \n",
            " 5   DW_B          51361 non-null  object \n",
            " 6   COUNTRY_A     51361 non-null  object \n",
            " 7   COUNTRY_B     51361 non-null  object \n",
            " 8   CELL_ID       51361 non-null  object \n",
            " 9   SITE_ID       51361 non-null  object \n",
            " 10  VILLES        51361 non-null  object \n",
            " 11  STATUS        50645 non-null  object \n",
            " 12  LOCALISATION  51361 non-null  object \n",
            " 13  DECOUPZONE    51361 non-null  object \n",
            " 14  ZONENAME      51343 non-null  object \n",
            " 15  REGION        51361 non-null  object \n",
            " 16  LATITUDE      51361 non-null  float64\n",
            " 17  LONGITUDE     51361 non-null  float64\n",
            " 18  AREA          51105 non-null  object \n",
            "dtypes: float64(2), int64(1), object(16)\n",
            "memory usage: 7.8+ MB\n"
          ],
          "name": "stdout"
        }
      ]
    },
    {
      "cell_type": "code",
      "metadata": {
        "colab": {
          "base_uri": "https://localhost:8080/",
          "height": 297
        },
        "id": "2n4Fgijhj4tN",
        "outputId": "ad9e5c47-0e38-4a47-d460-3a91787fcf17"
      },
      "source": [
        "#get descriptive values such as mean, standard Deviation and max\r\n",
        "#for numerical values\r\n",
        "merged_df.describe()"
      ],
      "execution_count": null,
      "outputs": [
        {
          "output_type": "execute_result",
          "data": {
            "text/html": [
              "<div>\n",
              "<style scoped>\n",
              "    .dataframe tbody tr th:only-of-type {\n",
              "        vertical-align: middle;\n",
              "    }\n",
              "\n",
              "    .dataframe tbody tr th {\n",
              "        vertical-align: top;\n",
              "    }\n",
              "\n",
              "    .dataframe thead th {\n",
              "        text-align: right;\n",
              "    }\n",
              "</style>\n",
              "<table border=\"1\" class=\"dataframe\">\n",
              "  <thead>\n",
              "    <tr style=\"text-align: right;\">\n",
              "      <th></th>\n",
              "      <th>VALUE</th>\n",
              "      <th>LATITUDE</th>\n",
              "      <th>LONGITUDE</th>\n",
              "    </tr>\n",
              "  </thead>\n",
              "  <tbody>\n",
              "    <tr>\n",
              "      <th>count</th>\n",
              "      <td>51361.000000</td>\n",
              "      <td>51361.000000</td>\n",
              "      <td>51361.000000</td>\n",
              "    </tr>\n",
              "    <tr>\n",
              "      <th>mean</th>\n",
              "      <td>28.083371</td>\n",
              "      <td>5.883299</td>\n",
              "      <td>-4.643727</td>\n",
              "    </tr>\n",
              "    <tr>\n",
              "      <th>std</th>\n",
              "      <td>112.082966</td>\n",
              "      <td>1.018990</td>\n",
              "      <td>1.059065</td>\n",
              "    </tr>\n",
              "    <tr>\n",
              "      <th>min</th>\n",
              "      <td>0.000000</td>\n",
              "      <td>0.000000</td>\n",
              "      <td>-8.408611</td>\n",
              "    </tr>\n",
              "    <tr>\n",
              "      <th>25%</th>\n",
              "      <td>0.000000</td>\n",
              "      <td>5.328694</td>\n",
              "      <td>-5.260333</td>\n",
              "    </tr>\n",
              "    <tr>\n",
              "      <th>50%</th>\n",
              "      <td>0.000000</td>\n",
              "      <td>5.373222</td>\n",
              "      <td>-4.055778</td>\n",
              "    </tr>\n",
              "    <tr>\n",
              "      <th>75%</th>\n",
              "      <td>25.000000</td>\n",
              "      <td>6.128722</td>\n",
              "      <td>-4.002361</td>\n",
              "    </tr>\n",
              "    <tr>\n",
              "      <th>max</th>\n",
              "      <td>6750.000000</td>\n",
              "      <td>10.441319</td>\n",
              "      <td>-0.000000</td>\n",
              "    </tr>\n",
              "  </tbody>\n",
              "</table>\n",
              "</div>"
            ],
            "text/plain": [
              "              VALUE      LATITUDE     LONGITUDE\n",
              "count  51361.000000  51361.000000  51361.000000\n",
              "mean      28.083371      5.883299     -4.643727\n",
              "std      112.082966      1.018990      1.059065\n",
              "min        0.000000      0.000000     -8.408611\n",
              "25%        0.000000      5.328694     -5.260333\n",
              "50%        0.000000      5.373222     -4.055778\n",
              "75%       25.000000      6.128722     -4.002361\n",
              "max     6750.000000     10.441319     -0.000000"
            ]
          },
          "metadata": {
            "tags": []
          },
          "execution_count": 33
        }
      ]
    },
    {
      "cell_type": "code",
      "metadata": {
        "colab": {
          "base_uri": "https://localhost:8080/"
        },
        "id": "67T1wPMSj_Bw",
        "outputId": "8bc7415c-58dd-4bb2-915c-cf739d53037e"
      },
      "source": [
        "#Now for some data cleaning on the merged data frames\r\n",
        "#finding duplicates in my data is very important. \r\n",
        "merged_df.duplicated()"
      ],
      "execution_count": null,
      "outputs": [
        {
          "output_type": "execute_result",
          "data": {
            "text/plain": [
              "0        False\n",
              "1         True\n",
              "2         True\n",
              "3         True\n",
              "4         True\n",
              "         ...  \n",
              "51356    False\n",
              "51357     True\n",
              "51358    False\n",
              "51359     True\n",
              "51360     True\n",
              "Length: 51361, dtype: bool"
            ]
          },
          "metadata": {
            "tags": []
          },
          "execution_count": 34
        }
      ]
    },
    {
      "cell_type": "code",
      "metadata": {
        "colab": {
          "base_uri": "https://localhost:8080/",
          "height": 779
        },
        "id": "SfFZTDOtkQz2",
        "outputId": "71634a88-c471-41ed-f222-e14f4c3cacd9"
      },
      "source": [
        "#delete the duplicates\r\n",
        "merged_df = merged_df.drop_duplicates()\r\n",
        "merged_df"
      ],
      "execution_count": null,
      "outputs": [
        {
          "output_type": "execute_result",
          "data": {
            "text/html": [
              "<div>\n",
              "<style scoped>\n",
              "    .dataframe tbody tr th:only-of-type {\n",
              "        vertical-align: middle;\n",
              "    }\n",
              "\n",
              "    .dataframe tbody tr th {\n",
              "        vertical-align: top;\n",
              "    }\n",
              "\n",
              "    .dataframe thead th {\n",
              "        text-align: right;\n",
              "    }\n",
              "</style>\n",
              "<table border=\"1\" class=\"dataframe\">\n",
              "  <thead>\n",
              "    <tr style=\"text-align: right;\">\n",
              "      <th></th>\n",
              "      <th>PRODUCT</th>\n",
              "      <th>VALUE</th>\n",
              "      <th>DATETIME</th>\n",
              "      <th>CELL_ON_SITE</th>\n",
              "      <th>DW_A</th>\n",
              "      <th>DW_B</th>\n",
              "      <th>COUNTRY_A</th>\n",
              "      <th>COUNTRY_B</th>\n",
              "      <th>CELL_ID</th>\n",
              "      <th>SITE_ID</th>\n",
              "      <th>VILLES</th>\n",
              "      <th>STATUS</th>\n",
              "      <th>LOCALISATION</th>\n",
              "      <th>DECOUPZONE</th>\n",
              "      <th>ZONENAME</th>\n",
              "      <th>REGION</th>\n",
              "      <th>LATITUDE</th>\n",
              "      <th>LONGITUDE</th>\n",
              "      <th>AREA</th>\n",
              "    </tr>\n",
              "  </thead>\n",
              "  <tbody>\n",
              "    <tr>\n",
              "      <th>0</th>\n",
              "      <td>sms</td>\n",
              "      <td>0</td>\n",
              "      <td>2012-05-07 00:00:00.0</td>\n",
              "      <td>1</td>\n",
              "      <td>8118c3aa53d6c7b</td>\n",
              "      <td>1d103ea638ad1f0</td>\n",
              "      <td>19e2e</td>\n",
              "      <td>19e2e</td>\n",
              "      <td>5d9dc897f7</td>\n",
              "      <td>1b5540c02d</td>\n",
              "      <td>BOUAKE</td>\n",
              "      <td>In Service</td>\n",
              "      <td>INTERIEUR</td>\n",
              "      <td>Grand-NORD</td>\n",
              "      <td>ZONE A - Grand-NORD</td>\n",
              "      <td>VALLEE DU BANDAMA</td>\n",
              "      <td>7.718417</td>\n",
              "      <td>-5.027139</td>\n",
              "      <td>CENTRE NORTH</td>\n",
              "    </tr>\n",
              "    <tr>\n",
              "      <th>6</th>\n",
              "      <td>Voice</td>\n",
              "      <td>92</td>\n",
              "      <td>2012-05-07 00:00:06.0</td>\n",
              "      <td>4</td>\n",
              "      <td>ada82842ff7cf09</td>\n",
              "      <td>d35102ff14c13b2</td>\n",
              "      <td>19e2e</td>\n",
              "      <td>19e2e</td>\n",
              "      <td>1e798cb0dc</td>\n",
              "      <td>1b5540c02d</td>\n",
              "      <td>BOUAKE</td>\n",
              "      <td>In Service</td>\n",
              "      <td>INTERIEUR</td>\n",
              "      <td>Grand-NORD</td>\n",
              "      <td>ZONE A - Grand-NORD</td>\n",
              "      <td>VALLEE DU BANDAMA</td>\n",
              "      <td>7.718417</td>\n",
              "      <td>-5.027139</td>\n",
              "      <td>CENTRE NORTH</td>\n",
              "    </tr>\n",
              "    <tr>\n",
              "      <th>12</th>\n",
              "      <td>sms</td>\n",
              "      <td>25</td>\n",
              "      <td>2012-05-07 00:00:21.0</td>\n",
              "      <td>0</td>\n",
              "      <td>74189e127808747</td>\n",
              "      <td>3704381e2e76259</td>\n",
              "      <td>19e2e</td>\n",
              "      <td>19e2e</td>\n",
              "      <td>e3ef47df3f</td>\n",
              "      <td>1b5540c02d</td>\n",
              "      <td>BOUAKE</td>\n",
              "      <td>In Service</td>\n",
              "      <td>INTERIEUR</td>\n",
              "      <td>Grand-NORD</td>\n",
              "      <td>ZONE A - Grand-NORD</td>\n",
              "      <td>VALLEE DU BANDAMA</td>\n",
              "      <td>7.718417</td>\n",
              "      <td>-5.027139</td>\n",
              "      <td>CENTRE NORTH</td>\n",
              "    </tr>\n",
              "    <tr>\n",
              "      <th>18</th>\n",
              "      <td>Voice</td>\n",
              "      <td>16</td>\n",
              "      <td>2012-05-07 00:00:21.0</td>\n",
              "      <td>0</td>\n",
              "      <td>2313f147b4452d5</td>\n",
              "      <td>4e4bb5a13d08fb9</td>\n",
              "      <td>19e2e</td>\n",
              "      <td>19e2e</td>\n",
              "      <td>e3ef47df3f</td>\n",
              "      <td>1b5540c02d</td>\n",
              "      <td>BOUAKE</td>\n",
              "      <td>In Service</td>\n",
              "      <td>INTERIEUR</td>\n",
              "      <td>Grand-NORD</td>\n",
              "      <td>ZONE A - Grand-NORD</td>\n",
              "      <td>VALLEE DU BANDAMA</td>\n",
              "      <td>7.718417</td>\n",
              "      <td>-5.027139</td>\n",
              "      <td>CENTRE NORTH</td>\n",
              "    </tr>\n",
              "    <tr>\n",
              "      <th>24</th>\n",
              "      <td>Voice</td>\n",
              "      <td>35</td>\n",
              "      <td>2012-05-07 00:00:41.0</td>\n",
              "      <td>1</td>\n",
              "      <td>f7c3a56c793594a</td>\n",
              "      <td>b738d6d953faa78</td>\n",
              "      <td>19e2e</td>\n",
              "      <td>19e2e</td>\n",
              "      <td>5d9dc897f7</td>\n",
              "      <td>1b5540c02d</td>\n",
              "      <td>BOUAKE</td>\n",
              "      <td>In Service</td>\n",
              "      <td>INTERIEUR</td>\n",
              "      <td>Grand-NORD</td>\n",
              "      <td>ZONE A - Grand-NORD</td>\n",
              "      <td>VALLEE DU BANDAMA</td>\n",
              "      <td>7.718417</td>\n",
              "      <td>-5.027139</td>\n",
              "      <td>CENTRE NORTH</td>\n",
              "    </tr>\n",
              "    <tr>\n",
              "      <th>...</th>\n",
              "      <td>...</td>\n",
              "      <td>...</td>\n",
              "      <td>...</td>\n",
              "      <td>...</td>\n",
              "      <td>...</td>\n",
              "      <td>...</td>\n",
              "      <td>...</td>\n",
              "      <td>...</td>\n",
              "      <td>...</td>\n",
              "      <td>...</td>\n",
              "      <td>...</td>\n",
              "      <td>...</td>\n",
              "      <td>...</td>\n",
              "      <td>...</td>\n",
              "      <td>...</td>\n",
              "      <td>...</td>\n",
              "      <td>...</td>\n",
              "      <td>...</td>\n",
              "      <td>...</td>\n",
              "    </tr>\n",
              "    <tr>\n",
              "      <th>51347</th>\n",
              "      <td>Voice</td>\n",
              "      <td>0</td>\n",
              "      <td>2012-05-09 00:01:27.0</td>\n",
              "      <td>2</td>\n",
              "      <td>0f9c90a6ee44083</td>\n",
              "      <td>1a49f8b0ded9de6</td>\n",
              "      <td>19e2e</td>\n",
              "      <td>19e2e</td>\n",
              "      <td>f9640a19ed</td>\n",
              "      <td>8cc89f3fa9</td>\n",
              "      <td>PAKAOUBO</td>\n",
              "      <td>In Service</td>\n",
              "      <td>INTERIEUR</td>\n",
              "      <td>Grand-NORD</td>\n",
              "      <td>ZONE A - Grand-NORD</td>\n",
              "      <td>MARAHOUE</td>\n",
              "      <td>7.170250</td>\n",
              "      <td>-5.786194</td>\n",
              "      <td>CENTRE NORTH</td>\n",
              "    </tr>\n",
              "    <tr>\n",
              "      <th>51350</th>\n",
              "      <td>sms</td>\n",
              "      <td>0</td>\n",
              "      <td>2012-05-09 00:01:42.0</td>\n",
              "      <td>1</td>\n",
              "      <td>dd953c2ab18c1b7</td>\n",
              "      <td>4b30ffe72e8a405</td>\n",
              "      <td>19e2e</td>\n",
              "      <td>19e2e</td>\n",
              "      <td>9407858a4c</td>\n",
              "      <td>d236ec6ca8</td>\n",
              "      <td>TIAPOUM</td>\n",
              "      <td>In Service</td>\n",
              "      <td>INTERIEUR</td>\n",
              "      <td>Grand-EST</td>\n",
              "      <td>ZONE C - Grand-EST</td>\n",
              "      <td>SUD COMOE</td>\n",
              "      <td>5.138750</td>\n",
              "      <td>-3.020500</td>\n",
              "      <td>ABIDJAN SOUTH</td>\n",
              "    </tr>\n",
              "    <tr>\n",
              "      <th>51353</th>\n",
              "      <td>Voice</td>\n",
              "      <td>47</td>\n",
              "      <td>2012-05-09 00:01:42.0</td>\n",
              "      <td>1</td>\n",
              "      <td>144d260d1961913</td>\n",
              "      <td>fc15d238a9d904f</td>\n",
              "      <td>19e2e</td>\n",
              "      <td>19e2e</td>\n",
              "      <td>99b81a5dd0</td>\n",
              "      <td>aa59cc7ced</td>\n",
              "      <td>BLANFLA</td>\n",
              "      <td>In Service</td>\n",
              "      <td>INTERIEUR</td>\n",
              "      <td>Grand-SUD</td>\n",
              "      <td>ZONE B - Grand-SUD</td>\n",
              "      <td>MARAHOUE</td>\n",
              "      <td>6.843278</td>\n",
              "      <td>-5.772972</td>\n",
              "      <td>CENTRE NORTH</td>\n",
              "    </tr>\n",
              "    <tr>\n",
              "      <th>51356</th>\n",
              "      <td>Voice</td>\n",
              "      <td>17</td>\n",
              "      <td>2012-05-09 00:01:42.0</td>\n",
              "      <td>4</td>\n",
              "      <td>22e493a92442b73</td>\n",
              "      <td>c9e2c9c2fa3795a</td>\n",
              "      <td>19e2e</td>\n",
              "      <td>19e2e</td>\n",
              "      <td>2f50f4a1fb</td>\n",
              "      <td>cc45940406</td>\n",
              "      <td>ADJAME</td>\n",
              "      <td>In Service</td>\n",
              "      <td>ABIDJAN</td>\n",
              "      <td>Abidjan_CENTRE</td>\n",
              "      <td>ZONE B - Abidjan_CENTRE</td>\n",
              "      <td>LAGUNE</td>\n",
              "      <td>5.349442</td>\n",
              "      <td>-4.023247</td>\n",
              "      <td>ABIDJAN NORTH</td>\n",
              "    </tr>\n",
              "    <tr>\n",
              "      <th>51358</th>\n",
              "      <td>sms</td>\n",
              "      <td>0</td>\n",
              "      <td>2012-05-09 00:01:43.0</td>\n",
              "      <td>2</td>\n",
              "      <td>32e2e7c90a9b0e9</td>\n",
              "      <td>32e2e7c90a9b0e9</td>\n",
              "      <td>19e2e</td>\n",
              "      <td>19e2e</td>\n",
              "      <td>25c671778e</td>\n",
              "      <td>ab91f5b21d</td>\n",
              "      <td>DIABO</td>\n",
              "      <td>In Service</td>\n",
              "      <td>INTERIEUR</td>\n",
              "      <td>Grand-NORD</td>\n",
              "      <td>ZONE A - Grand-NORD</td>\n",
              "      <td>VALLEE DU BANDAMA</td>\n",
              "      <td>7.777056</td>\n",
              "      <td>-5.171778</td>\n",
              "      <td>CENTRE NORTH</td>\n",
              "    </tr>\n",
              "  </tbody>\n",
              "</table>\n",
              "<p>10739 rows × 19 columns</p>\n",
              "</div>"
            ],
            "text/plain": [
              "      PRODUCT  VALUE               DATETIME  ...  LATITUDE LONGITUDE           AREA\n",
              "0         sms      0  2012-05-07 00:00:00.0  ...  7.718417 -5.027139   CENTRE NORTH\n",
              "6       Voice     92  2012-05-07 00:00:06.0  ...  7.718417 -5.027139   CENTRE NORTH\n",
              "12        sms     25  2012-05-07 00:00:21.0  ...  7.718417 -5.027139   CENTRE NORTH\n",
              "18      Voice     16  2012-05-07 00:00:21.0  ...  7.718417 -5.027139   CENTRE NORTH\n",
              "24      Voice     35  2012-05-07 00:00:41.0  ...  7.718417 -5.027139   CENTRE NORTH\n",
              "...       ...    ...                    ...  ...       ...       ...            ...\n",
              "51347   Voice      0  2012-05-09 00:01:27.0  ...  7.170250 -5.786194   CENTRE NORTH\n",
              "51350     sms      0  2012-05-09 00:01:42.0  ...  5.138750 -3.020500  ABIDJAN SOUTH\n",
              "51353   Voice     47  2012-05-09 00:01:42.0  ...  6.843278 -5.772972   CENTRE NORTH\n",
              "51356   Voice     17  2012-05-09 00:01:42.0  ...  5.349442 -4.023247  ABIDJAN NORTH\n",
              "51358     sms      0  2012-05-09 00:01:43.0  ...  7.777056 -5.171778   CENTRE NORTH\n",
              "\n",
              "[10739 rows x 19 columns]"
            ]
          },
          "metadata": {
            "tags": []
          },
          "execution_count": 45
        }
      ]
    },
    {
      "cell_type": "code",
      "metadata": {
        "colab": {
          "base_uri": "https://localhost:8080/"
        },
        "id": "paqMm9ljkf1r",
        "outputId": "551ec906-ae05-4c86-fa4f-dbb4f241281f"
      },
      "source": [
        "#as seen, most of the data points were duplicates.\r\n",
        "#the number of rows reduced from 51358 to 10739\r\n",
        "merged_df.info()"
      ],
      "execution_count": null,
      "outputs": [
        {
          "output_type": "stream",
          "text": [
            "<class 'pandas.core.frame.DataFrame'>\n",
            "Int64Index: 10739 entries, 0 to 51358\n",
            "Data columns (total 19 columns):\n",
            " #   Column        Non-Null Count  Dtype  \n",
            "---  ------        --------------  -----  \n",
            " 0   PRODUCT       10739 non-null  object \n",
            " 1   VALUE         10739 non-null  int64  \n",
            " 2   DATETIME      10739 non-null  object \n",
            " 3   CELL_ON_SITE  10739 non-null  object \n",
            " 4   DW_A          10739 non-null  object \n",
            " 5   DW_B          10739 non-null  object \n",
            " 6   COUNTRY_A     10739 non-null  object \n",
            " 7   COUNTRY_B     10739 non-null  object \n",
            " 8   CELL_ID       10739 non-null  object \n",
            " 9   SITE_ID       10739 non-null  object \n",
            " 10  VILLES        10739 non-null  object \n",
            " 11  STATUS        10342 non-null  object \n",
            " 12  LOCALISATION  10739 non-null  object \n",
            " 13  DECOUPZONE    10739 non-null  object \n",
            " 14  ZONENAME      10733 non-null  object \n",
            " 15  REGION        10739 non-null  object \n",
            " 16  LATITUDE      10739 non-null  float64\n",
            " 17  LONGITUDE     10739 non-null  float64\n",
            " 18  AREA          10645 non-null  object \n",
            "dtypes: float64(2), int64(1), object(16)\n",
            "memory usage: 1.6+ MB\n"
          ],
          "name": "stdout"
        }
      ]
    },
    {
      "cell_type": "code",
      "metadata": {
        "colab": {
          "base_uri": "https://localhost:8080/"
        },
        "id": "knxvz6tvkkQt",
        "outputId": "b94fc899-266e-4d59-969d-137574c6913a"
      },
      "source": [
        "#more data cleaning\r\n",
        "# Missing data in merged  dataset\r\n",
        "\r\n",
        "merged_df.isnull().sum()"
      ],
      "execution_count": null,
      "outputs": [
        {
          "output_type": "execute_result",
          "data": {
            "text/plain": [
              "PRODUCT           0\n",
              "VALUE             0\n",
              "DATETIME          0\n",
              "CELL_ON_SITE      0\n",
              "DW_A              0\n",
              "DW_B              0\n",
              "COUNTRY_A         0\n",
              "COUNTRY_B         0\n",
              "CELL_ID           0\n",
              "SITE_ID           0\n",
              "VILLES            0\n",
              "STATUS          397\n",
              "LOCALISATION      0\n",
              "DECOUPZONE        0\n",
              "ZONENAME          6\n",
              "REGION            0\n",
              "LATITUDE          0\n",
              "LONGITUDE         0\n",
              "AREA             94\n",
              "dtype: int64"
            ]
          },
          "metadata": {
            "tags": []
          },
          "execution_count": 37
        }
      ]
    },
    {
      "cell_type": "code",
      "metadata": {
        "colab": {
          "base_uri": "https://localhost:8080/",
          "height": 199
        },
        "id": "pEhtBSgAlCyS",
        "outputId": "365272d0-bd07-4e3a-88eb-8de8ea9cb070"
      },
      "source": [
        "#drop Status since it has many null values and may not be an entirely useful column \r\n",
        "merged_df = merged_df.drop('STATUS',axis=1)\r\n",
        "merged_df.head(2)\r\n"
      ],
      "execution_count": null,
      "outputs": [
        {
          "output_type": "execute_result",
          "data": {
            "text/html": [
              "<div>\n",
              "<style scoped>\n",
              "    .dataframe tbody tr th:only-of-type {\n",
              "        vertical-align: middle;\n",
              "    }\n",
              "\n",
              "    .dataframe tbody tr th {\n",
              "        vertical-align: top;\n",
              "    }\n",
              "\n",
              "    .dataframe thead th {\n",
              "        text-align: right;\n",
              "    }\n",
              "</style>\n",
              "<table border=\"1\" class=\"dataframe\">\n",
              "  <thead>\n",
              "    <tr style=\"text-align: right;\">\n",
              "      <th></th>\n",
              "      <th>PRODUCT</th>\n",
              "      <th>VALUE</th>\n",
              "      <th>DATETIME</th>\n",
              "      <th>CELL_ON_SITE</th>\n",
              "      <th>DW_A</th>\n",
              "      <th>DW_B</th>\n",
              "      <th>COUNTRY_A</th>\n",
              "      <th>COUNTRY_B</th>\n",
              "      <th>CELL_ID</th>\n",
              "      <th>SITE_ID</th>\n",
              "      <th>VILLES</th>\n",
              "      <th>LOCALISATION</th>\n",
              "      <th>DECOUPZONE</th>\n",
              "      <th>ZONENAME</th>\n",
              "      <th>REGION</th>\n",
              "      <th>LATITUDE</th>\n",
              "      <th>LONGITUDE</th>\n",
              "      <th>AREA</th>\n",
              "    </tr>\n",
              "  </thead>\n",
              "  <tbody>\n",
              "    <tr>\n",
              "      <th>0</th>\n",
              "      <td>sms</td>\n",
              "      <td>0</td>\n",
              "      <td>2012-05-07 00:00:00.0</td>\n",
              "      <td>1</td>\n",
              "      <td>8118c3aa53d6c7b</td>\n",
              "      <td>1d103ea638ad1f0</td>\n",
              "      <td>19e2e</td>\n",
              "      <td>19e2e</td>\n",
              "      <td>5d9dc897f7</td>\n",
              "      <td>1b5540c02d</td>\n",
              "      <td>BOUAKE</td>\n",
              "      <td>INTERIEUR</td>\n",
              "      <td>Grand-NORD</td>\n",
              "      <td>ZONE A - Grand-NORD</td>\n",
              "      <td>VALLEE DU BANDAMA</td>\n",
              "      <td>7.718417</td>\n",
              "      <td>-5.027139</td>\n",
              "      <td>CENTRE NORTH</td>\n",
              "    </tr>\n",
              "    <tr>\n",
              "      <th>6</th>\n",
              "      <td>Voice</td>\n",
              "      <td>92</td>\n",
              "      <td>2012-05-07 00:00:06.0</td>\n",
              "      <td>4</td>\n",
              "      <td>ada82842ff7cf09</td>\n",
              "      <td>d35102ff14c13b2</td>\n",
              "      <td>19e2e</td>\n",
              "      <td>19e2e</td>\n",
              "      <td>1e798cb0dc</td>\n",
              "      <td>1b5540c02d</td>\n",
              "      <td>BOUAKE</td>\n",
              "      <td>INTERIEUR</td>\n",
              "      <td>Grand-NORD</td>\n",
              "      <td>ZONE A - Grand-NORD</td>\n",
              "      <td>VALLEE DU BANDAMA</td>\n",
              "      <td>7.718417</td>\n",
              "      <td>-5.027139</td>\n",
              "      <td>CENTRE NORTH</td>\n",
              "    </tr>\n",
              "  </tbody>\n",
              "</table>\n",
              "</div>"
            ],
            "text/plain": [
              "  PRODUCT  VALUE               DATETIME  ...  LATITUDE LONGITUDE          AREA\n",
              "0     sms      0  2012-05-07 00:00:00.0  ...  7.718417 -5.027139  CENTRE NORTH\n",
              "6   Voice     92  2012-05-07 00:00:06.0  ...  7.718417 -5.027139  CENTRE NORTH\n",
              "\n",
              "[2 rows x 18 columns]"
            ]
          },
          "metadata": {
            "tags": []
          },
          "execution_count": 46
        }
      ]
    },
    {
      "cell_type": "code",
      "metadata": {
        "colab": {
          "base_uri": "https://localhost:8080/",
          "height": 199
        },
        "id": "kqB_Li7SlWAZ",
        "outputId": "3b9e4f2b-9ce8-4db3-c9f5-c6e8516696dc"
      },
      "source": [
        "#ascertaining that there is no missing values in the dataset\r\n",
        "#drop the area column so as not to skew our data\r\n",
        "merged_df = merged_df.drop('AREA',axis=1)\r\n",
        "merged_df.head(2)"
      ],
      "execution_count": null,
      "outputs": [
        {
          "output_type": "execute_result",
          "data": {
            "text/html": [
              "<div>\n",
              "<style scoped>\n",
              "    .dataframe tbody tr th:only-of-type {\n",
              "        vertical-align: middle;\n",
              "    }\n",
              "\n",
              "    .dataframe tbody tr th {\n",
              "        vertical-align: top;\n",
              "    }\n",
              "\n",
              "    .dataframe thead th {\n",
              "        text-align: right;\n",
              "    }\n",
              "</style>\n",
              "<table border=\"1\" class=\"dataframe\">\n",
              "  <thead>\n",
              "    <tr style=\"text-align: right;\">\n",
              "      <th></th>\n",
              "      <th>PRODUCT</th>\n",
              "      <th>VALUE</th>\n",
              "      <th>DATETIME</th>\n",
              "      <th>CELL_ON_SITE</th>\n",
              "      <th>DW_A</th>\n",
              "      <th>DW_B</th>\n",
              "      <th>COUNTRY_A</th>\n",
              "      <th>COUNTRY_B</th>\n",
              "      <th>CELL_ID</th>\n",
              "      <th>SITE_ID</th>\n",
              "      <th>VILLES</th>\n",
              "      <th>LOCALISATION</th>\n",
              "      <th>DECOUPZONE</th>\n",
              "      <th>ZONENAME</th>\n",
              "      <th>REGION</th>\n",
              "      <th>LATITUDE</th>\n",
              "      <th>LONGITUDE</th>\n",
              "    </tr>\n",
              "  </thead>\n",
              "  <tbody>\n",
              "    <tr>\n",
              "      <th>0</th>\n",
              "      <td>sms</td>\n",
              "      <td>0</td>\n",
              "      <td>2012-05-07 00:00:00.0</td>\n",
              "      <td>1</td>\n",
              "      <td>8118c3aa53d6c7b</td>\n",
              "      <td>1d103ea638ad1f0</td>\n",
              "      <td>19e2e</td>\n",
              "      <td>19e2e</td>\n",
              "      <td>5d9dc897f7</td>\n",
              "      <td>1b5540c02d</td>\n",
              "      <td>BOUAKE</td>\n",
              "      <td>INTERIEUR</td>\n",
              "      <td>Grand-NORD</td>\n",
              "      <td>ZONE A - Grand-NORD</td>\n",
              "      <td>VALLEE DU BANDAMA</td>\n",
              "      <td>7.718417</td>\n",
              "      <td>-5.027139</td>\n",
              "    </tr>\n",
              "    <tr>\n",
              "      <th>6</th>\n",
              "      <td>Voice</td>\n",
              "      <td>92</td>\n",
              "      <td>2012-05-07 00:00:06.0</td>\n",
              "      <td>4</td>\n",
              "      <td>ada82842ff7cf09</td>\n",
              "      <td>d35102ff14c13b2</td>\n",
              "      <td>19e2e</td>\n",
              "      <td>19e2e</td>\n",
              "      <td>1e798cb0dc</td>\n",
              "      <td>1b5540c02d</td>\n",
              "      <td>BOUAKE</td>\n",
              "      <td>INTERIEUR</td>\n",
              "      <td>Grand-NORD</td>\n",
              "      <td>ZONE A - Grand-NORD</td>\n",
              "      <td>VALLEE DU BANDAMA</td>\n",
              "      <td>7.718417</td>\n",
              "      <td>-5.027139</td>\n",
              "    </tr>\n",
              "  </tbody>\n",
              "</table>\n",
              "</div>"
            ],
            "text/plain": [
              "  PRODUCT  VALUE               DATETIME  ...             REGION  LATITUDE LONGITUDE\n",
              "0     sms      0  2012-05-07 00:00:00.0  ...  VALLEE DU BANDAMA  7.718417 -5.027139\n",
              "6   Voice     92  2012-05-07 00:00:06.0  ...  VALLEE DU BANDAMA  7.718417 -5.027139\n",
              "\n",
              "[2 rows x 17 columns]"
            ]
          },
          "metadata": {
            "tags": []
          },
          "execution_count": 47
        }
      ]
    },
    {
      "cell_type": "code",
      "metadata": {
        "colab": {
          "base_uri": "https://localhost:8080/"
        },
        "id": "-2LfyLKUlhCc",
        "outputId": "1a2c4a85-0141-48ae-f151-df352d097fe4"
      },
      "source": [
        "#thats better. The data is now relatively clean.\r\n",
        "merged_df.isnull().sum()"
      ],
      "execution_count": null,
      "outputs": [
        {
          "output_type": "execute_result",
          "data": {
            "text/plain": [
              "PRODUCT         0\n",
              "VALUE           0\n",
              "DATETIME        0\n",
              "CELL_ON_SITE    0\n",
              "DW_A            0\n",
              "DW_B            0\n",
              "COUNTRY_A       0\n",
              "COUNTRY_B       0\n",
              "CELL_ID         0\n",
              "SITE_ID         0\n",
              "VILLES          0\n",
              "LOCALISATION    0\n",
              "DECOUPZONE      0\n",
              "ZONENAME        6\n",
              "REGION          0\n",
              "LATITUDE        0\n",
              "LONGITUDE       0\n",
              "dtype: int64"
            ]
          },
          "metadata": {
            "tags": []
          },
          "execution_count": 41
        }
      ]
    },
    {
      "cell_type": "code",
      "metadata": {
        "colab": {
          "base_uri": "https://localhost:8080/",
          "height": 145
        },
        "id": "FT9aot4ymp85",
        "outputId": "e92fb435-510b-4486-dda2-8e9cae90d137"
      },
      "source": [
        "#next I drop less significant columns from my project\r\n",
        "#drop more non-important columns from my dataset\r\n",
        "merged_df = merged_df.drop('COUNTRY_A',axis=1)\r\n",
        "merged_df = merged_df.drop('COUNTRY_B',axis=1)\r\n",
        "merged_df = merged_df.drop('DW_A',axis=1)\r\n",
        "merged_df = merged_df.drop('DW_B',axis=1)\r\n",
        "merged_df = merged_df.drop('LONGITUDE',axis=1)\r\n",
        "merged_df = merged_df.drop('LATITUDE',axis=1)\r\n",
        "merged_df = merged_df.drop('SITE_ID',axis =1)\r\n",
        "merged_df.head(2)"
      ],
      "execution_count": null,
      "outputs": [
        {
          "output_type": "execute_result",
          "data": {
            "text/html": [
              "<div>\n",
              "<style scoped>\n",
              "    .dataframe tbody tr th:only-of-type {\n",
              "        vertical-align: middle;\n",
              "    }\n",
              "\n",
              "    .dataframe tbody tr th {\n",
              "        vertical-align: top;\n",
              "    }\n",
              "\n",
              "    .dataframe thead th {\n",
              "        text-align: right;\n",
              "    }\n",
              "</style>\n",
              "<table border=\"1\" class=\"dataframe\">\n",
              "  <thead>\n",
              "    <tr style=\"text-align: right;\">\n",
              "      <th></th>\n",
              "      <th>PRODUCT</th>\n",
              "      <th>VALUE</th>\n",
              "      <th>DATETIME</th>\n",
              "      <th>CELL_ON_SITE</th>\n",
              "      <th>CELL_ID</th>\n",
              "      <th>VILLES</th>\n",
              "      <th>LOCALISATION</th>\n",
              "      <th>DECOUPZONE</th>\n",
              "      <th>ZONENAME</th>\n",
              "      <th>REGION</th>\n",
              "    </tr>\n",
              "  </thead>\n",
              "  <tbody>\n",
              "    <tr>\n",
              "      <th>0</th>\n",
              "      <td>sms</td>\n",
              "      <td>0</td>\n",
              "      <td>2012-05-07 00:00:00.0</td>\n",
              "      <td>1</td>\n",
              "      <td>5d9dc897f7</td>\n",
              "      <td>BOUAKE</td>\n",
              "      <td>INTERIEUR</td>\n",
              "      <td>Grand-NORD</td>\n",
              "      <td>ZONE A - Grand-NORD</td>\n",
              "      <td>VALLEE DU BANDAMA</td>\n",
              "    </tr>\n",
              "    <tr>\n",
              "      <th>6</th>\n",
              "      <td>Voice</td>\n",
              "      <td>92</td>\n",
              "      <td>2012-05-07 00:00:06.0</td>\n",
              "      <td>4</td>\n",
              "      <td>1e798cb0dc</td>\n",
              "      <td>BOUAKE</td>\n",
              "      <td>INTERIEUR</td>\n",
              "      <td>Grand-NORD</td>\n",
              "      <td>ZONE A - Grand-NORD</td>\n",
              "      <td>VALLEE DU BANDAMA</td>\n",
              "    </tr>\n",
              "  </tbody>\n",
              "</table>\n",
              "</div>"
            ],
            "text/plain": [
              "  PRODUCT  VALUE  ...             ZONENAME             REGION\n",
              "0     sms      0  ...  ZONE A - Grand-NORD  VALLEE DU BANDAMA\n",
              "6   Voice     92  ...  ZONE A - Grand-NORD  VALLEE DU BANDAMA\n",
              "\n",
              "[2 rows x 10 columns]"
            ]
          },
          "metadata": {
            "tags": []
          },
          "execution_count": 48
        }
      ]
    },
    {
      "cell_type": "code",
      "metadata": {
        "colab": {
          "base_uri": "https://localhost:8080/"
        },
        "id": "WpGQHvgRnz3k",
        "outputId": "685ffc17-d99c-4b50-d1fd-74b074dd852e"
      },
      "source": [
        "#now i have 10 columns with 10739 rows that can help in my insights\r\n",
        "merged_df.info()"
      ],
      "execution_count": null,
      "outputs": [
        {
          "output_type": "stream",
          "text": [
            "<class 'pandas.core.frame.DataFrame'>\n",
            "Int64Index: 10739 entries, 0 to 51358\n",
            "Data columns (total 10 columns):\n",
            " #   Column        Non-Null Count  Dtype \n",
            "---  ------        --------------  ----- \n",
            " 0   PRODUCT       10739 non-null  object\n",
            " 1   VALUE         10739 non-null  int64 \n",
            " 2   DATETIME      10739 non-null  object\n",
            " 3   CELL_ON_SITE  10739 non-null  object\n",
            " 4   CELL_ID       10739 non-null  object\n",
            " 5   VILLES        10739 non-null  object\n",
            " 6   LOCALISATION  10739 non-null  object\n",
            " 7   DECOUPZONE    10739 non-null  object\n",
            " 8   ZONENAME      10733 non-null  object\n",
            " 9   REGION        10739 non-null  object\n",
            "dtypes: int64(1), object(9)\n",
            "memory usage: 922.9+ KB\n"
          ],
          "name": "stdout"
        }
      ]
    },
    {
      "cell_type": "code",
      "metadata": {
        "colab": {
          "base_uri": "https://localhost:8080/"
        },
        "id": "RBRSldbZocpn",
        "outputId": "add4c11c-9106-4a13-a25b-165804642d07"
      },
      "source": [
        "#Get the most used cities\r\n",
        "#From the code below,YOPOUGON was the most used city, having being used 1765 times for the duration - A very useful insight\r\n",
        "n = 20\r\n",
        "merged_df['VILLES'].value_counts()[:n]"
      ],
      "execution_count": null,
      "outputs": [
        {
          "output_type": "execute_result",
          "data": {
            "text/plain": [
              "YOPOUGON        1765\n",
              "ABOBO           1202\n",
              "COCODY           744\n",
              "ADJAME           564\n",
              "KOUMASSI         441\n",
              "MARCORY          430\n",
              "TREICHVILLE      398\n",
              "YAMOUSSOUKRO     362\n",
              "PORT-BOUET       313\n",
              "ATTECOUBE        307\n",
              "DALOA            306\n",
              "BOUAKE           263\n",
              "SAN-PEDRO        223\n",
              "DIVO             207\n",
              "KORHOGO          148\n",
              "GAGNOA           142\n",
              "MAN              132\n",
              "SOUBRE            99\n",
              "DABOU             88\n",
              "DUEKOUE           76\n",
              "Name: VILLES, dtype: int64"
            ]
          },
          "metadata": {
            "tags": []
          },
          "execution_count": 50
        }
      ]
    },
    {
      "cell_type": "code",
      "metadata": {
        "colab": {
          "base_uri": "https://localhost:8080/"
        },
        "id": "bS9hCy9OoxXz",
        "outputId": "783a5721-3baa-4133-c312-f7e61626c7ef"
      },
      "source": [
        "#Which MTN product was the most used between sms and voice and data.\r\n",
        "#From below, sms was the most used service product - A very useful insight\r\n",
        "n = 4\r\n",
        "merged_df['PRODUCT'].value_counts()[:n]"
      ],
      "execution_count": null,
      "outputs": [
        {
          "output_type": "execute_result",
          "data": {
            "text/plain": [
              "sms      6010\n",
              "Voice    4729\n",
              "Name: PRODUCT, dtype: int64"
            ]
          },
          "metadata": {
            "tags": []
          },
          "execution_count": 52
        }
      ]
    },
    {
      "cell_type": "code",
      "metadata": {
        "colab": {
          "base_uri": "https://localhost:8080/"
        },
        "id": "sA-hZ4avpEKP",
        "outputId": "8ae62bf6-ecfe-4779-9e3a-501ddc64753d"
      },
      "source": [
        "#JUst checking the region in Cote D'Ivoire with most MTN use.\r\n",
        "#Lagune region was by far the top region where MTN services were in more use - A very useful insight\r\n",
        "n = 20\r\n",
        "merged_df['REGION'].value_counts()[:n]"
      ],
      "execution_count": null,
      "outputs": [
        {
          "output_type": "execute_result",
          "data": {
            "text/plain": [
              "LAGUNE               6715\n",
              "BAS SASSANDRA         473\n",
              "LACS                  459\n",
              "HAUT SASSANDRA        431\n",
              "VALLEE DU BANDAMA     366\n",
              "SUD BANDAMA           341\n",
              "SAVANE                333\n",
              "FROMAGER              220\n",
              "WORODOUGOU            207\n",
              "18 MONTAGNES          193\n",
              "MARAHOUE              181\n",
              "NZI COMOE             154\n",
              "AGNEBY                150\n",
              "MOYEN CAVALLY         132\n",
              "DENGUELE              132\n",
              "ZANZAN                100\n",
              "MOYEN COMOE            65\n",
              "SUD COMOE              54\n",
              "BAFING                 33\n",
              "Name: REGION, dtype: int64"
            ]
          },
          "metadata": {
            "tags": []
          },
          "execution_count": 53
        }
      ]
    },
    {
      "cell_type": "code",
      "metadata": {
        "colab": {
          "base_uri": "https://localhost:8080/",
          "height": 142
        },
        "id": "PFQW1qSopZH2",
        "outputId": "2b48eb6a-f42a-4d7f-e7ae-37b580667a4a"
      },
      "source": [
        "#Checking what products were more valuable\r\n",
        "#apparently, voice products were more valuable than \r\n",
        "#all other products combined - A very useful insight for my recommendations\r\n",
        "merged_df.groupby(['PRODUCT']).sum()"
      ],
      "execution_count": null,
      "outputs": [
        {
          "output_type": "execute_result",
          "data": {
            "text/html": [
              "<div>\n",
              "<style scoped>\n",
              "    .dataframe tbody tr th:only-of-type {\n",
              "        vertical-align: middle;\n",
              "    }\n",
              "\n",
              "    .dataframe tbody tr th {\n",
              "        vertical-align: top;\n",
              "    }\n",
              "\n",
              "    .dataframe thead th {\n",
              "        text-align: right;\n",
              "    }\n",
              "</style>\n",
              "<table border=\"1\" class=\"dataframe\">\n",
              "  <thead>\n",
              "    <tr style=\"text-align: right;\">\n",
              "      <th></th>\n",
              "      <th>VALUE</th>\n",
              "    </tr>\n",
              "    <tr>\n",
              "      <th>PRODUCT</th>\n",
              "      <th></th>\n",
              "    </tr>\n",
              "  </thead>\n",
              "  <tbody>\n",
              "    <tr>\n",
              "      <th>Voice</th>\n",
              "      <td>260011</td>\n",
              "    </tr>\n",
              "    <tr>\n",
              "      <th>sms</th>\n",
              "      <td>49400</td>\n",
              "    </tr>\n",
              "  </tbody>\n",
              "</table>\n",
              "</div>"
            ],
            "text/plain": [
              "          VALUE\n",
              "PRODUCT        \n",
              "Voice    260011\n",
              "sms       49400"
            ]
          },
          "metadata": {
            "tags": []
          },
          "execution_count": 54
        }
      ]
    },
    {
      "cell_type": "code",
      "metadata": {
        "colab": {
          "base_uri": "https://localhost:8080/"
        },
        "id": "U4ciWPjwpiH3",
        "outputId": "9ec63681-b070-45e0-a3da-dcc8f1ef99fd"
      },
      "source": [
        "#in which villes (cities) were the individual products popular\r\n",
        "#this helps prioritise specific mTN products for specific cities according to demand.\r\n",
        "merged_df.groupby(['PRODUCT', 'VILLES']).size()"
      ],
      "execution_count": null,
      "outputs": [
        {
          "output_type": "execute_result",
          "data": {
            "text/plain": [
              "PRODUCT  VILLES       \n",
              "Voice    ABENGOUROU        18\n",
              "         ABOBO            376\n",
              "         ABOISSO            7\n",
              "         ABOISSO COMOE      4\n",
              "         ABONGOUA           1\n",
              "                         ... \n",
              "sms      ZAIBO              5\n",
              "         ZAROKO             1\n",
              "         ZIKISSO            6\n",
              "         ZOUKOUGBEU         2\n",
              "         ZUENOULA          18\n",
              "Length: 601, dtype: int64"
            ]
          },
          "metadata": {
            "tags": []
          },
          "execution_count": 62
        }
      ]
    },
    {
      "cell_type": "code",
      "metadata": {
        "colab": {
          "base_uri": "https://localhost:8080/",
          "height": 481
        },
        "id": "uY_XFljWrD-c",
        "outputId": "78b11a61-89f3-49e0-a822-f64c1567cb2c"
      },
      "source": [
        "#get the cities which had the highest billing value by mean\r\n",
        "grouped = merged_df.groupby('VILLES').agg({'VALUE': ['mean', 'min', 'max']})\r\n",
        "grouped\r\n"
      ],
      "execution_count": null,
      "outputs": [
        {
          "output_type": "execute_result",
          "data": {
            "text/html": [
              "<div>\n",
              "<style scoped>\n",
              "    .dataframe tbody tr th:only-of-type {\n",
              "        vertical-align: middle;\n",
              "    }\n",
              "\n",
              "    .dataframe tbody tr th {\n",
              "        vertical-align: top;\n",
              "    }\n",
              "\n",
              "    .dataframe thead tr th {\n",
              "        text-align: left;\n",
              "    }\n",
              "\n",
              "    .dataframe thead tr:last-of-type th {\n",
              "        text-align: right;\n",
              "    }\n",
              "</style>\n",
              "<table border=\"1\" class=\"dataframe\">\n",
              "  <thead>\n",
              "    <tr>\n",
              "      <th></th>\n",
              "      <th colspan=\"3\" halign=\"left\">VALUE</th>\n",
              "    </tr>\n",
              "    <tr>\n",
              "      <th></th>\n",
              "      <th>mean</th>\n",
              "      <th>min</th>\n",
              "      <th>max</th>\n",
              "    </tr>\n",
              "    <tr>\n",
              "      <th>VILLES</th>\n",
              "      <th></th>\n",
              "      <th></th>\n",
              "      <th></th>\n",
              "    </tr>\n",
              "  </thead>\n",
              "  <tbody>\n",
              "    <tr>\n",
              "      <th>ABENGOUROU</th>\n",
              "      <td>55.000000</td>\n",
              "      <td>0</td>\n",
              "      <td>480</td>\n",
              "    </tr>\n",
              "    <tr>\n",
              "      <th>ABOBO</th>\n",
              "      <td>20.436772</td>\n",
              "      <td>0</td>\n",
              "      <td>3380</td>\n",
              "    </tr>\n",
              "    <tr>\n",
              "      <th>ABOISSO</th>\n",
              "      <td>18.333333</td>\n",
              "      <td>0</td>\n",
              "      <td>180</td>\n",
              "    </tr>\n",
              "    <tr>\n",
              "      <th>ABOISSO COMOE</th>\n",
              "      <td>44.166667</td>\n",
              "      <td>0</td>\n",
              "      <td>150</td>\n",
              "    </tr>\n",
              "    <tr>\n",
              "      <th>ABONGOUA</th>\n",
              "      <td>1.000000</td>\n",
              "      <td>1</td>\n",
              "      <td>1</td>\n",
              "    </tr>\n",
              "    <tr>\n",
              "      <th>...</th>\n",
              "      <td>...</td>\n",
              "      <td>...</td>\n",
              "      <td>...</td>\n",
              "    </tr>\n",
              "    <tr>\n",
              "      <th>ZATTA</th>\n",
              "      <td>1.000000</td>\n",
              "      <td>1</td>\n",
              "      <td>1</td>\n",
              "    </tr>\n",
              "    <tr>\n",
              "      <th>ZIKISSO</th>\n",
              "      <td>26.888889</td>\n",
              "      <td>0</td>\n",
              "      <td>110</td>\n",
              "    </tr>\n",
              "    <tr>\n",
              "      <th>ZON-HOUNIEN</th>\n",
              "      <td>40.333333</td>\n",
              "      <td>0</td>\n",
              "      <td>100</td>\n",
              "    </tr>\n",
              "    <tr>\n",
              "      <th>ZOUKOUGBEU</th>\n",
              "      <td>59.500000</td>\n",
              "      <td>25</td>\n",
              "      <td>136</td>\n",
              "    </tr>\n",
              "    <tr>\n",
              "      <th>ZUENOULA</th>\n",
              "      <td>30.523810</td>\n",
              "      <td>0</td>\n",
              "      <td>476</td>\n",
              "    </tr>\n",
              "  </tbody>\n",
              "</table>\n",
              "<p>400 rows × 3 columns</p>\n",
              "</div>"
            ],
            "text/plain": [
              "                   VALUE          \n",
              "                    mean min   max\n",
              "VILLES                            \n",
              "ABENGOUROU     55.000000   0   480\n",
              "ABOBO          20.436772   0  3380\n",
              "ABOISSO        18.333333   0   180\n",
              "ABOISSO COMOE  44.166667   0   150\n",
              "ABONGOUA        1.000000   1     1\n",
              "...                  ...  ..   ...\n",
              "ZATTA           1.000000   1     1\n",
              "ZIKISSO        26.888889   0   110\n",
              "ZON-HOUNIEN    40.333333   0   100\n",
              "ZOUKOUGBEU     59.500000  25   136\n",
              "ZUENOULA       30.523810   0   476\n",
              "\n",
              "[400 rows x 3 columns]"
            ]
          },
          "metadata": {
            "tags": []
          },
          "execution_count": 68
        }
      ]
    },
    {
      "cell_type": "code",
      "metadata": {
        "colab": {
          "base_uri": "https://localhost:8080/"
        },
        "id": "JENLClwVs8_Z",
        "outputId": "de59fc9b-c40b-4a9b-ba4a-a3e5d153d37e"
      },
      "source": [
        "#this give the total billing value for MTN products for the three days\r\n",
        "merged_df['VALUE'].sum()"
      ],
      "execution_count": null,
      "outputs": [
        {
          "output_type": "execute_result",
          "data": {
            "text/plain": [
              "309411"
            ]
          },
          "metadata": {
            "tags": []
          },
          "execution_count": 71
        }
      ]
    },
    {
      "cell_type": "code",
      "metadata": {
        "colab": {
          "base_uri": "https://localhost:8080/"
        },
        "id": "Hi21EEFTvh9A",
        "outputId": "847cbc39-08fe-4495-ee35-88a41b94c9cb"
      },
      "source": [
        "#try to understand what cities in the regions had highest value to the company revenue\r\n",
        "f = merged_df['VALUE'].groupby([merged_df['REGION'], merged_df['VILLES']]).mean()\r\n",
        "print(f)"
      ],
      "execution_count": null,
      "outputs": [
        {
          "output_type": "stream",
          "text": [
            "REGION        VILLES     \n",
            "18 MONTAGNES  BANGOLO        17.166667\n",
            "              BIANKOUMA      10.500000\n",
            "              BIN HOUNIEN    60.000000\n",
            "              DANANE         68.200000\n",
            "              DIEOUZON        0.000000\n",
            "                               ...    \n",
            "ZANZAN        TABAGNE        52.000000\n",
            "              TANDA          59.666667\n",
            "              TANDI          18.000000\n",
            "              TAOUDI          0.000000\n",
            "              TRANSUA        51.000000\n",
            "Name: VALUE, Length: 404, dtype: float64\n"
          ],
          "name": "stdout"
        }
      ]
    },
    {
      "cell_type": "code",
      "metadata": {
        "colab": {
          "base_uri": "https://localhost:8080/",
          "height": 394
        },
        "id": "yxgD_bhWwbeu",
        "outputId": "99c0233c-01f7-433e-ff35-3b315ce72cc2"
      },
      "source": [
        "#the highest billed MTN customer was from Cocody in Lagune\r\n",
        "merged_df.sort_values(by='VALUE', ascending=False).head()"
      ],
      "execution_count": null,
      "outputs": [
        {
          "output_type": "execute_result",
          "data": {
            "text/html": [
              "<div>\n",
              "<style scoped>\n",
              "    .dataframe tbody tr th:only-of-type {\n",
              "        vertical-align: middle;\n",
              "    }\n",
              "\n",
              "    .dataframe tbody tr th {\n",
              "        vertical-align: top;\n",
              "    }\n",
              "\n",
              "    .dataframe thead th {\n",
              "        text-align: right;\n",
              "    }\n",
              "</style>\n",
              "<table border=\"1\" class=\"dataframe\">\n",
              "  <thead>\n",
              "    <tr style=\"text-align: right;\">\n",
              "      <th></th>\n",
              "      <th>PRODUCT</th>\n",
              "      <th>VALUE</th>\n",
              "      <th>DATETIME</th>\n",
              "      <th>CELL_ON_SITE</th>\n",
              "      <th>CELL_ID</th>\n",
              "      <th>VILLES</th>\n",
              "      <th>LOCALISATION</th>\n",
              "      <th>DECOUPZONE</th>\n",
              "      <th>ZONENAME</th>\n",
              "      <th>REGION</th>\n",
              "    </tr>\n",
              "  </thead>\n",
              "  <tbody>\n",
              "    <tr>\n",
              "      <th>45591</th>\n",
              "      <td>Voice</td>\n",
              "      <td>6750</td>\n",
              "      <td>2012-05-09 00:00:23.0</td>\n",
              "      <td>2</td>\n",
              "      <td>3f5ac97214</td>\n",
              "      <td>COCODY</td>\n",
              "      <td>ABIDJAN</td>\n",
              "      <td>Abidjan_EST</td>\n",
              "      <td>ZONE B - Abidjan_EST</td>\n",
              "      <td>LAGUNE</td>\n",
              "    </tr>\n",
              "    <tr>\n",
              "      <th>19977</th>\n",
              "      <td>Voice</td>\n",
              "      <td>3380</td>\n",
              "      <td>2012-05-08 00:00:07.0</td>\n",
              "      <td>2</td>\n",
              "      <td>5a7f6cf0fa</td>\n",
              "      <td>ABOBO</td>\n",
              "      <td>ABIDJAN</td>\n",
              "      <td>Abidjan_NORD</td>\n",
              "      <td>ZONE E - Abidjan_NORD</td>\n",
              "      <td>LAGUNE</td>\n",
              "    </tr>\n",
              "    <tr>\n",
              "      <th>48410</th>\n",
              "      <td>Voice</td>\n",
              "      <td>2330</td>\n",
              "      <td>2012-05-08 00:00:25.0</td>\n",
              "      <td>2</td>\n",
              "      <td>13c129b7fa</td>\n",
              "      <td>SIPILOU</td>\n",
              "      <td>INTERIEUR</td>\n",
              "      <td>Grand-OUEST</td>\n",
              "      <td>ZONE D - Grand-OUEST</td>\n",
              "      <td>18 MONTAGNES</td>\n",
              "    </tr>\n",
              "    <tr>\n",
              "      <th>3099</th>\n",
              "      <td>Voice</td>\n",
              "      <td>2212</td>\n",
              "      <td>2012-05-08 00:00:52.0</td>\n",
              "      <td>5</td>\n",
              "      <td>c68a1b9da4</td>\n",
              "      <td>DAOUKRO</td>\n",
              "      <td>INTERIEUR</td>\n",
              "      <td>Grand-EST</td>\n",
              "      <td>ZONE C - Grand-EST</td>\n",
              "      <td>NZI COMOE</td>\n",
              "    </tr>\n",
              "    <tr>\n",
              "      <th>43735</th>\n",
              "      <td>Voice</td>\n",
              "      <td>2120</td>\n",
              "      <td>2012-05-09 00:01:19.0</td>\n",
              "      <td>2</td>\n",
              "      <td>0cbdf715d0</td>\n",
              "      <td>TREICHVILLE</td>\n",
              "      <td>ABIDJAN</td>\n",
              "      <td>Abidjan_CENTRE</td>\n",
              "      <td>ZONE A - Abidjan_CENTRE</td>\n",
              "      <td>LAGUNE</td>\n",
              "    </tr>\n",
              "  </tbody>\n",
              "</table>\n",
              "</div>"
            ],
            "text/plain": [
              "      PRODUCT  VALUE  ...                 ZONENAME        REGION\n",
              "45591   Voice   6750  ...     ZONE B - Abidjan_EST        LAGUNE\n",
              "19977   Voice   3380  ...    ZONE E - Abidjan_NORD        LAGUNE\n",
              "48410   Voice   2330  ...     ZONE D - Grand-OUEST  18 MONTAGNES\n",
              "3099    Voice   2212  ...       ZONE C - Grand-EST     NZI COMOE\n",
              "43735   Voice   2120  ...  ZONE A - Abidjan_CENTRE        LAGUNE\n",
              "\n",
              "[5 rows x 10 columns]"
            ]
          },
          "metadata": {
            "tags": []
          },
          "execution_count": 77
        }
      ]
    },
    {
      "cell_type": "code",
      "metadata": {
        "colab": {
          "base_uri": "https://localhost:8080/"
        },
        "id": "-imriNj5x9Ob",
        "outputId": "1997fd00-43d7-4fab-e18a-524e855832bf"
      },
      "source": [
        "#just get the number of unique cell id (unique customers who transacted over the course of the 3 days)\r\n",
        "merged_df['CELL_ID'].count()"
      ],
      "execution_count": null,
      "outputs": [
        {
          "output_type": "execute_result",
          "data": {
            "text/plain": [
              "10739"
            ]
          },
          "metadata": {
            "tags": []
          },
          "execution_count": 80
        }
      ]
    },
    {
      "cell_type": "code",
      "metadata": {
        "id": "RnQPhPvv0YdX"
      },
      "source": [
        ""
      ],
      "execution_count": null,
      "outputs": []
    }
  ]
}